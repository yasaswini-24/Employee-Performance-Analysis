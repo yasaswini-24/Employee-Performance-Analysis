{
  "nbformat": 4,
  "nbformat_minor": 0,
  "metadata": {
    "colab": {
      "provenance": [],
      "collapsed_sections": []
    },
    "kernelspec": {
      "name": "python3",
      "display_name": "Python 3"
    },
    "language_info": {
      "name": "python"
    }
  },
  "cells": [
    {
      "cell_type": "code",
      "source": [
        "pip install --upgrade xlrd"
      ],
      "metadata": {
        "colab": {
          "base_uri": "https://localhost:8080/"
        },
        "id": "rYqZD5epomKA",
        "outputId": "cb2a2df3-f966-4ed4-cfcd-273b2608138c"
      },
      "execution_count": null,
      "outputs": [
        {
          "output_type": "stream",
          "name": "stdout",
          "text": [
            "Looking in indexes: https://pypi.org/simple, https://us-python.pkg.dev/colab-wheels/public/simple/\n",
            "Requirement already satisfied: xlrd in /usr/local/lib/python3.7/dist-packages (1.1.0)\n",
            "Collecting xlrd\n",
            "  Downloading xlrd-2.0.1-py2.py3-none-any.whl (96 kB)\n",
            "\u001b[K     |████████████████████████████████| 96 kB 5.2 MB/s \n",
            "\u001b[?25hInstalling collected packages: xlrd\n",
            "  Attempting uninstall: xlrd\n",
            "    Found existing installation: xlrd 1.1.0\n",
            "    Uninstalling xlrd-1.1.0:\n",
            "      Successfully uninstalled xlrd-1.1.0\n",
            "Successfully installed xlrd-2.0.1\n"
          ]
        }
      ]
    },
    {
      "cell_type": "markdown",
      "source": [
        "pip install association_metrics"
      ],
      "metadata": {
        "id": "GbP8k5gfhI-R"
      }
    },
    {
      "cell_type": "code",
      "source": [
        "pip install association_metrics"
      ],
      "metadata": {
        "colab": {
          "base_uri": "https://localhost:8080/"
        },
        "id": "DsMLOydZhV6g",
        "outputId": "dd520954-e4ea-4f9f-ba4e-891eddcf49e4"
      },
      "execution_count": null,
      "outputs": [
        {
          "output_type": "stream",
          "name": "stdout",
          "text": [
            "Looking in indexes: https://pypi.org/simple, https://us-python.pkg.dev/colab-wheels/public/simple/\n",
            "Collecting association_metrics\n",
            "  Downloading association-metrics-0.0.1.tar.gz (3.2 kB)\n",
            "Building wheels for collected packages: association-metrics\n",
            "  Building wheel for association-metrics (setup.py) ... \u001b[?25l\u001b[?25hdone\n",
            "  Created wheel for association-metrics: filename=association_metrics-0.0.1-py3-none-any.whl size=3954 sha256=b90f40f97e448336052050ace312360fa926754b8d8b1bf20c7815f73b483be1\n",
            "  Stored in directory: /root/.cache/pip/wheels/2d/1e/07/287b993a07cc41eade32a9b863d6d4686f985d72344a9e0911\n",
            "Successfully built association-metrics\n",
            "Installing collected packages: association-metrics\n",
            "Successfully installed association-metrics-0.0.1\n"
          ]
        }
      ]
    },
    {
      "cell_type": "markdown",
      "source": [],
      "metadata": {
        "id": "O-8QcytOhVjf"
      }
    },
    {
      "cell_type": "code",
      "execution_count": null,
      "metadata": {
        "id": "2iOKW6rQm8n-"
      },
      "outputs": [],
      "source": [
        "import pandas as pd\n",
        "import numpy as np\n",
        "import seaborn as sns\n",
        "import matplotlib.pyplot as plt\n",
        "import scipy.stats as ss\n",
        "import association_metrics as am\n",
        "\n",
        "from sklearn.preprocessing import OneHotEncoder\n",
        "from sklearn.model_selection import train_test_split, GridSearchCV\n",
        "from sklearn.pipeline import Pipeline\n",
        "from sklearn.preprocessing import StandardScaler\n",
        "from sklearn.compose import ColumnTransformer\n",
        "from sklearn.metrics import accuracy_score, confusion_matrix, classification_report\n",
        "from sklearn.linear_model import LogisticRegression\n",
        "from sklearn.svm import SVC\n",
        "from sklearn.tree import DecisionTreeClassifier\n",
        "from sklearn.ensemble import RandomForestClassifier, GradientBoostingClassifier\n"
      ]
    },
    {
      "cell_type": "code",
      "source": [
        "from google.colab import drive\n",
        "drive.mount('/content/drive')"
      ],
      "metadata": {
        "colab": {
          "base_uri": "https://localhost:8080/"
        },
        "id": "ngAqTVJJnbzt",
        "outputId": "0e687fe9-ec53-4c2b-afe6-1c4be101d548"
      },
      "execution_count": null,
      "outputs": [
        {
          "output_type": "stream",
          "name": "stdout",
          "text": [
            "Mounted at /content/drive\n"
          ]
        }
      ]
    },
    {
      "cell_type": "code",
      "source": [
        "df = pd.read_excel('/content/drive/MyDrive/Mock_Project/INX_Future_Inc_Employee_Performance_CDS_Project2_Data_V1.8.xls')"
      ],
      "metadata": {
        "id": "4BSbfc_WnNB5"
      },
      "execution_count": null,
      "outputs": []
    },
    {
      "cell_type": "code",
      "source": [
        "df.head()"
      ],
      "metadata": {
        "colab": {
          "base_uri": "https://localhost:8080/",
          "height": 386
        },
        "id": "mWkwuQsqoLSy",
        "outputId": "b3b76c35-f5b0-4029-d891-3717e0660761"
      },
      "execution_count": null,
      "outputs": [
        {
          "output_type": "execute_result",
          "data": {
            "text/plain": [
              "  EmpNumber  Age Gender EducationBackground MaritalStatus    EmpDepartment  \\\n",
              "0  E1001000   32   Male           Marketing        Single            Sales   \n",
              "1  E1001006   47   Male           Marketing        Single            Sales   \n",
              "2  E1001007   40   Male       Life Sciences       Married            Sales   \n",
              "3  E1001009   41   Male     Human Resources      Divorced  Human Resources   \n",
              "4  E1001010   60   Male           Marketing        Single            Sales   \n",
              "\n",
              "        EmpJobRole BusinessTravelFrequency  DistanceFromHome  \\\n",
              "0  Sales Executive           Travel_Rarely                10   \n",
              "1  Sales Executive           Travel_Rarely                14   \n",
              "2  Sales Executive       Travel_Frequently                 5   \n",
              "3          Manager           Travel_Rarely                10   \n",
              "4  Sales Executive           Travel_Rarely                16   \n",
              "\n",
              "   EmpEducationLevel  ...  EmpRelationshipSatisfaction  \\\n",
              "0                  3  ...                            4   \n",
              "1                  4  ...                            4   \n",
              "2                  4  ...                            3   \n",
              "3                  4  ...                            2   \n",
              "4                  4  ...                            4   \n",
              "\n",
              "   TotalWorkExperienceInYears  TrainingTimesLastYear  EmpWorkLifeBalance  \\\n",
              "0                          10                      2                   2   \n",
              "1                          20                      2                   3   \n",
              "2                          20                      2                   3   \n",
              "3                          23                      2                   2   \n",
              "4                          10                      1                   3   \n",
              "\n",
              "   ExperienceYearsAtThisCompany  ExperienceYearsInCurrentRole  \\\n",
              "0                            10                             7   \n",
              "1                             7                             7   \n",
              "2                            18                            13   \n",
              "3                            21                             6   \n",
              "4                             2                             2   \n",
              "\n",
              "  YearsSinceLastPromotion  YearsWithCurrManager  Attrition  PerformanceRating  \n",
              "0                       0                     8         No                  3  \n",
              "1                       1                     7         No                  3  \n",
              "2                       1                    12         No                  4  \n",
              "3                      12                     6         No                  3  \n",
              "4                       2                     2         No                  3  \n",
              "\n",
              "[5 rows x 28 columns]"
            ],
            "text/html": [
              "\n",
              "  <div id=\"df-95c70fdc-ab91-48f8-bb9a-5ec4e4242e57\">\n",
              "    <div class=\"colab-df-container\">\n",
              "      <div>\n",
              "<style scoped>\n",
              "    .dataframe tbody tr th:only-of-type {\n",
              "        vertical-align: middle;\n",
              "    }\n",
              "\n",
              "    .dataframe tbody tr th {\n",
              "        vertical-align: top;\n",
              "    }\n",
              "\n",
              "    .dataframe thead th {\n",
              "        text-align: right;\n",
              "    }\n",
              "</style>\n",
              "<table border=\"1\" class=\"dataframe\">\n",
              "  <thead>\n",
              "    <tr style=\"text-align: right;\">\n",
              "      <th></th>\n",
              "      <th>EmpNumber</th>\n",
              "      <th>Age</th>\n",
              "      <th>Gender</th>\n",
              "      <th>EducationBackground</th>\n",
              "      <th>MaritalStatus</th>\n",
              "      <th>EmpDepartment</th>\n",
              "      <th>EmpJobRole</th>\n",
              "      <th>BusinessTravelFrequency</th>\n",
              "      <th>DistanceFromHome</th>\n",
              "      <th>EmpEducationLevel</th>\n",
              "      <th>...</th>\n",
              "      <th>EmpRelationshipSatisfaction</th>\n",
              "      <th>TotalWorkExperienceInYears</th>\n",
              "      <th>TrainingTimesLastYear</th>\n",
              "      <th>EmpWorkLifeBalance</th>\n",
              "      <th>ExperienceYearsAtThisCompany</th>\n",
              "      <th>ExperienceYearsInCurrentRole</th>\n",
              "      <th>YearsSinceLastPromotion</th>\n",
              "      <th>YearsWithCurrManager</th>\n",
              "      <th>Attrition</th>\n",
              "      <th>PerformanceRating</th>\n",
              "    </tr>\n",
              "  </thead>\n",
              "  <tbody>\n",
              "    <tr>\n",
              "      <th>0</th>\n",
              "      <td>E1001000</td>\n",
              "      <td>32</td>\n",
              "      <td>Male</td>\n",
              "      <td>Marketing</td>\n",
              "      <td>Single</td>\n",
              "      <td>Sales</td>\n",
              "      <td>Sales Executive</td>\n",
              "      <td>Travel_Rarely</td>\n",
              "      <td>10</td>\n",
              "      <td>3</td>\n",
              "      <td>...</td>\n",
              "      <td>4</td>\n",
              "      <td>10</td>\n",
              "      <td>2</td>\n",
              "      <td>2</td>\n",
              "      <td>10</td>\n",
              "      <td>7</td>\n",
              "      <td>0</td>\n",
              "      <td>8</td>\n",
              "      <td>No</td>\n",
              "      <td>3</td>\n",
              "    </tr>\n",
              "    <tr>\n",
              "      <th>1</th>\n",
              "      <td>E1001006</td>\n",
              "      <td>47</td>\n",
              "      <td>Male</td>\n",
              "      <td>Marketing</td>\n",
              "      <td>Single</td>\n",
              "      <td>Sales</td>\n",
              "      <td>Sales Executive</td>\n",
              "      <td>Travel_Rarely</td>\n",
              "      <td>14</td>\n",
              "      <td>4</td>\n",
              "      <td>...</td>\n",
              "      <td>4</td>\n",
              "      <td>20</td>\n",
              "      <td>2</td>\n",
              "      <td>3</td>\n",
              "      <td>7</td>\n",
              "      <td>7</td>\n",
              "      <td>1</td>\n",
              "      <td>7</td>\n",
              "      <td>No</td>\n",
              "      <td>3</td>\n",
              "    </tr>\n",
              "    <tr>\n",
              "      <th>2</th>\n",
              "      <td>E1001007</td>\n",
              "      <td>40</td>\n",
              "      <td>Male</td>\n",
              "      <td>Life Sciences</td>\n",
              "      <td>Married</td>\n",
              "      <td>Sales</td>\n",
              "      <td>Sales Executive</td>\n",
              "      <td>Travel_Frequently</td>\n",
              "      <td>5</td>\n",
              "      <td>4</td>\n",
              "      <td>...</td>\n",
              "      <td>3</td>\n",
              "      <td>20</td>\n",
              "      <td>2</td>\n",
              "      <td>3</td>\n",
              "      <td>18</td>\n",
              "      <td>13</td>\n",
              "      <td>1</td>\n",
              "      <td>12</td>\n",
              "      <td>No</td>\n",
              "      <td>4</td>\n",
              "    </tr>\n",
              "    <tr>\n",
              "      <th>3</th>\n",
              "      <td>E1001009</td>\n",
              "      <td>41</td>\n",
              "      <td>Male</td>\n",
              "      <td>Human Resources</td>\n",
              "      <td>Divorced</td>\n",
              "      <td>Human Resources</td>\n",
              "      <td>Manager</td>\n",
              "      <td>Travel_Rarely</td>\n",
              "      <td>10</td>\n",
              "      <td>4</td>\n",
              "      <td>...</td>\n",
              "      <td>2</td>\n",
              "      <td>23</td>\n",
              "      <td>2</td>\n",
              "      <td>2</td>\n",
              "      <td>21</td>\n",
              "      <td>6</td>\n",
              "      <td>12</td>\n",
              "      <td>6</td>\n",
              "      <td>No</td>\n",
              "      <td>3</td>\n",
              "    </tr>\n",
              "    <tr>\n",
              "      <th>4</th>\n",
              "      <td>E1001010</td>\n",
              "      <td>60</td>\n",
              "      <td>Male</td>\n",
              "      <td>Marketing</td>\n",
              "      <td>Single</td>\n",
              "      <td>Sales</td>\n",
              "      <td>Sales Executive</td>\n",
              "      <td>Travel_Rarely</td>\n",
              "      <td>16</td>\n",
              "      <td>4</td>\n",
              "      <td>...</td>\n",
              "      <td>4</td>\n",
              "      <td>10</td>\n",
              "      <td>1</td>\n",
              "      <td>3</td>\n",
              "      <td>2</td>\n",
              "      <td>2</td>\n",
              "      <td>2</td>\n",
              "      <td>2</td>\n",
              "      <td>No</td>\n",
              "      <td>3</td>\n",
              "    </tr>\n",
              "  </tbody>\n",
              "</table>\n",
              "<p>5 rows × 28 columns</p>\n",
              "</div>\n",
              "      <button class=\"colab-df-convert\" onclick=\"convertToInteractive('df-95c70fdc-ab91-48f8-bb9a-5ec4e4242e57')\"\n",
              "              title=\"Convert this dataframe to an interactive table.\"\n",
              "              style=\"display:none;\">\n",
              "        \n",
              "  <svg xmlns=\"http://www.w3.org/2000/svg\" height=\"24px\"viewBox=\"0 0 24 24\"\n",
              "       width=\"24px\">\n",
              "    <path d=\"M0 0h24v24H0V0z\" fill=\"none\"/>\n",
              "    <path d=\"M18.56 5.44l.94 2.06.94-2.06 2.06-.94-2.06-.94-.94-2.06-.94 2.06-2.06.94zm-11 1L8.5 8.5l.94-2.06 2.06-.94-2.06-.94L8.5 2.5l-.94 2.06-2.06.94zm10 10l.94 2.06.94-2.06 2.06-.94-2.06-.94-.94-2.06-.94 2.06-2.06.94z\"/><path d=\"M17.41 7.96l-1.37-1.37c-.4-.4-.92-.59-1.43-.59-.52 0-1.04.2-1.43.59L10.3 9.45l-7.72 7.72c-.78.78-.78 2.05 0 2.83L4 21.41c.39.39.9.59 1.41.59.51 0 1.02-.2 1.41-.59l7.78-7.78 2.81-2.81c.8-.78.8-2.07 0-2.86zM5.41 20L4 18.59l7.72-7.72 1.47 1.35L5.41 20z\"/>\n",
              "  </svg>\n",
              "      </button>\n",
              "      \n",
              "  <style>\n",
              "    .colab-df-container {\n",
              "      display:flex;\n",
              "      flex-wrap:wrap;\n",
              "      gap: 12px;\n",
              "    }\n",
              "\n",
              "    .colab-df-convert {\n",
              "      background-color: #E8F0FE;\n",
              "      border: none;\n",
              "      border-radius: 50%;\n",
              "      cursor: pointer;\n",
              "      display: none;\n",
              "      fill: #1967D2;\n",
              "      height: 32px;\n",
              "      padding: 0 0 0 0;\n",
              "      width: 32px;\n",
              "    }\n",
              "\n",
              "    .colab-df-convert:hover {\n",
              "      background-color: #E2EBFA;\n",
              "      box-shadow: 0px 1px 2px rgba(60, 64, 67, 0.3), 0px 1px 3px 1px rgba(60, 64, 67, 0.15);\n",
              "      fill: #174EA6;\n",
              "    }\n",
              "\n",
              "    [theme=dark] .colab-df-convert {\n",
              "      background-color: #3B4455;\n",
              "      fill: #D2E3FC;\n",
              "    }\n",
              "\n",
              "    [theme=dark] .colab-df-convert:hover {\n",
              "      background-color: #434B5C;\n",
              "      box-shadow: 0px 1px 3px 1px rgba(0, 0, 0, 0.15);\n",
              "      filter: drop-shadow(0px 1px 2px rgba(0, 0, 0, 0.3));\n",
              "      fill: #FFFFFF;\n",
              "    }\n",
              "  </style>\n",
              "\n",
              "      <script>\n",
              "        const buttonEl =\n",
              "          document.querySelector('#df-95c70fdc-ab91-48f8-bb9a-5ec4e4242e57 button.colab-df-convert');\n",
              "        buttonEl.style.display =\n",
              "          google.colab.kernel.accessAllowed ? 'block' : 'none';\n",
              "\n",
              "        async function convertToInteractive(key) {\n",
              "          const element = document.querySelector('#df-95c70fdc-ab91-48f8-bb9a-5ec4e4242e57');\n",
              "          const dataTable =\n",
              "            await google.colab.kernel.invokeFunction('convertToInteractive',\n",
              "                                                     [key], {});\n",
              "          if (!dataTable) return;\n",
              "\n",
              "          const docLinkHtml = 'Like what you see? Visit the ' +\n",
              "            '<a target=\"_blank\" href=https://colab.research.google.com/notebooks/data_table.ipynb>data table notebook</a>'\n",
              "            + ' to learn more about interactive tables.';\n",
              "          element.innerHTML = '';\n",
              "          dataTable['output_type'] = 'display_data';\n",
              "          await google.colab.output.renderOutput(dataTable, element);\n",
              "          const docLink = document.createElement('div');\n",
              "          docLink.innerHTML = docLinkHtml;\n",
              "          element.appendChild(docLink);\n",
              "        }\n",
              "      </script>\n",
              "    </div>\n",
              "  </div>\n",
              "  "
            ]
          },
          "metadata": {},
          "execution_count": 7
        }
      ]
    },
    {
      "cell_type": "code",
      "source": [
        "df.columns"
      ],
      "metadata": {
        "colab": {
          "base_uri": "https://localhost:8080/"
        },
        "id": "0Xxk4rcIpbTT",
        "outputId": "aee3e33c-dedf-4e02-c98e-259f73af5d1f"
      },
      "execution_count": null,
      "outputs": [
        {
          "output_type": "execute_result",
          "data": {
            "text/plain": [
              "Index(['EmpNumber', 'Age', 'Gender', 'EducationBackground', 'MaritalStatus',\n",
              "       'EmpDepartment', 'EmpJobRole', 'BusinessTravelFrequency',\n",
              "       'DistanceFromHome', 'EmpEducationLevel', 'EmpEnvironmentSatisfaction',\n",
              "       'EmpHourlyRate', 'EmpJobInvolvement', 'EmpJobLevel',\n",
              "       'EmpJobSatisfaction', 'NumCompaniesWorked', 'OverTime',\n",
              "       'EmpLastSalaryHikePercent', 'EmpRelationshipSatisfaction',\n",
              "       'TotalWorkExperienceInYears', 'TrainingTimesLastYear',\n",
              "       'EmpWorkLifeBalance', 'ExperienceYearsAtThisCompany',\n",
              "       'ExperienceYearsInCurrentRole', 'YearsSinceLastPromotion',\n",
              "       'YearsWithCurrManager', 'Attrition', 'PerformanceRating'],\n",
              "      dtype='object')"
            ]
          },
          "metadata": {},
          "execution_count": 8
        }
      ]
    },
    {
      "cell_type": "code",
      "source": [
        "df.shape"
      ],
      "metadata": {
        "colab": {
          "base_uri": "https://localhost:8080/"
        },
        "id": "8w4cJCkppemt",
        "outputId": "1dad0678-e928-47e9-e637-b78bb73821c3"
      },
      "execution_count": null,
      "outputs": [
        {
          "output_type": "execute_result",
          "data": {
            "text/plain": [
              "(1200, 28)"
            ]
          },
          "metadata": {},
          "execution_count": 9
        }
      ]
    },
    {
      "cell_type": "code",
      "source": [
        "df.info()"
      ],
      "metadata": {
        "colab": {
          "base_uri": "https://localhost:8080/"
        },
        "id": "ANopp7JXp_9T",
        "outputId": "198521ac-0b65-4014-e967-6fc93e9289c8"
      },
      "execution_count": null,
      "outputs": [
        {
          "output_type": "stream",
          "name": "stdout",
          "text": [
            "<class 'pandas.core.frame.DataFrame'>\n",
            "RangeIndex: 1200 entries, 0 to 1199\n",
            "Data columns (total 28 columns):\n",
            " #   Column                        Non-Null Count  Dtype \n",
            "---  ------                        --------------  ----- \n",
            " 0   EmpNumber                     1200 non-null   object\n",
            " 1   Age                           1200 non-null   int64 \n",
            " 2   Gender                        1200 non-null   object\n",
            " 3   EducationBackground           1200 non-null   object\n",
            " 4   MaritalStatus                 1200 non-null   object\n",
            " 5   EmpDepartment                 1200 non-null   object\n",
            " 6   EmpJobRole                    1200 non-null   object\n",
            " 7   BusinessTravelFrequency       1200 non-null   object\n",
            " 8   DistanceFromHome              1200 non-null   int64 \n",
            " 9   EmpEducationLevel             1200 non-null   int64 \n",
            " 10  EmpEnvironmentSatisfaction    1200 non-null   int64 \n",
            " 11  EmpHourlyRate                 1200 non-null   int64 \n",
            " 12  EmpJobInvolvement             1200 non-null   int64 \n",
            " 13  EmpJobLevel                   1200 non-null   int64 \n",
            " 14  EmpJobSatisfaction            1200 non-null   int64 \n",
            " 15  NumCompaniesWorked            1200 non-null   int64 \n",
            " 16  OverTime                      1200 non-null   object\n",
            " 17  EmpLastSalaryHikePercent      1200 non-null   int64 \n",
            " 18  EmpRelationshipSatisfaction   1200 non-null   int64 \n",
            " 19  TotalWorkExperienceInYears    1200 non-null   int64 \n",
            " 20  TrainingTimesLastYear         1200 non-null   int64 \n",
            " 21  EmpWorkLifeBalance            1200 non-null   int64 \n",
            " 22  ExperienceYearsAtThisCompany  1200 non-null   int64 \n",
            " 23  ExperienceYearsInCurrentRole  1200 non-null   int64 \n",
            " 24  YearsSinceLastPromotion       1200 non-null   int64 \n",
            " 25  YearsWithCurrManager          1200 non-null   int64 \n",
            " 26  Attrition                     1200 non-null   object\n",
            " 27  PerformanceRating             1200 non-null   int64 \n",
            "dtypes: int64(19), object(9)\n",
            "memory usage: 262.6+ KB\n"
          ]
        }
      ]
    },
    {
      "cell_type": "markdown",
      "source": [
        "We notice that there aren't any null values present in any of the columns. \n",
        "\n",
        "There are 9 columns of type 'object' and 19 columns of type 'int'."
      ],
      "metadata": {
        "id": "tDjTHCPmq4LR"
      }
    },
    {
      "cell_type": "code",
      "source": [
        "df.describe()"
      ],
      "metadata": {
        "colab": {
          "base_uri": "https://localhost:8080/",
          "height": 364
        },
        "id": "dyoLDNqyqDRK",
        "outputId": "1253ee60-e154-4d13-ea0c-c97c9dffbe19"
      },
      "execution_count": null,
      "outputs": [
        {
          "output_type": "execute_result",
          "data": {
            "text/plain": [
              "               Age  DistanceFromHome  EmpEducationLevel  \\\n",
              "count  1200.000000       1200.000000         1200.00000   \n",
              "mean     36.918333          9.165833            2.89250   \n",
              "std       9.087289          8.176636            1.04412   \n",
              "min      18.000000          1.000000            1.00000   \n",
              "25%      30.000000          2.000000            2.00000   \n",
              "50%      36.000000          7.000000            3.00000   \n",
              "75%      43.000000         14.000000            4.00000   \n",
              "max      60.000000         29.000000            5.00000   \n",
              "\n",
              "       EmpEnvironmentSatisfaction  EmpHourlyRate  EmpJobInvolvement  \\\n",
              "count                 1200.000000    1200.000000        1200.000000   \n",
              "mean                     2.715833      65.981667           2.731667   \n",
              "std                      1.090599      20.211302           0.707164   \n",
              "min                      1.000000      30.000000           1.000000   \n",
              "25%                      2.000000      48.000000           2.000000   \n",
              "50%                      3.000000      66.000000           3.000000   \n",
              "75%                      4.000000      83.000000           3.000000   \n",
              "max                      4.000000     100.000000           4.000000   \n",
              "\n",
              "       EmpJobLevel  EmpJobSatisfaction  NumCompaniesWorked  \\\n",
              "count  1200.000000         1200.000000         1200.000000   \n",
              "mean      2.067500            2.732500            2.665000   \n",
              "std       1.107836            1.100888            2.469384   \n",
              "min       1.000000            1.000000            0.000000   \n",
              "25%       1.000000            2.000000            1.000000   \n",
              "50%       2.000000            3.000000            2.000000   \n",
              "75%       3.000000            4.000000            4.000000   \n",
              "max       5.000000            4.000000            9.000000   \n",
              "\n",
              "       EmpLastSalaryHikePercent  EmpRelationshipSatisfaction  \\\n",
              "count               1200.000000                  1200.000000   \n",
              "mean                  15.222500                     2.725000   \n",
              "std                    3.625918                     1.075642   \n",
              "min                   11.000000                     1.000000   \n",
              "25%                   12.000000                     2.000000   \n",
              "50%                   14.000000                     3.000000   \n",
              "75%                   18.000000                     4.000000   \n",
              "max                   25.000000                     4.000000   \n",
              "\n",
              "       TotalWorkExperienceInYears  TrainingTimesLastYear  EmpWorkLifeBalance  \\\n",
              "count                 1200.000000            1200.000000         1200.000000   \n",
              "mean                    11.330000               2.785833            2.744167   \n",
              "std                      7.797228               1.263446            0.699374   \n",
              "min                      0.000000               0.000000            1.000000   \n",
              "25%                      6.000000               2.000000            2.000000   \n",
              "50%                     10.000000               3.000000            3.000000   \n",
              "75%                     15.000000               3.000000            3.000000   \n",
              "max                     40.000000               6.000000            4.000000   \n",
              "\n",
              "       ExperienceYearsAtThisCompany  ExperienceYearsInCurrentRole  \\\n",
              "count                   1200.000000                   1200.000000   \n",
              "mean                       7.077500                      4.291667   \n",
              "std                        6.236899                      3.613744   \n",
              "min                        0.000000                      0.000000   \n",
              "25%                        3.000000                      2.000000   \n",
              "50%                        5.000000                      3.000000   \n",
              "75%                       10.000000                      7.000000   \n",
              "max                       40.000000                     18.000000   \n",
              "\n",
              "       YearsSinceLastPromotion  YearsWithCurrManager  PerformanceRating  \n",
              "count              1200.000000           1200.000000        1200.000000  \n",
              "mean                  2.194167              4.105000           2.948333  \n",
              "std                   3.221560              3.541576           0.518866  \n",
              "min                   0.000000              0.000000           2.000000  \n",
              "25%                   0.000000              2.000000           3.000000  \n",
              "50%                   1.000000              3.000000           3.000000  \n",
              "75%                   3.000000              7.000000           3.000000  \n",
              "max                  15.000000             17.000000           4.000000  "
            ],
            "text/html": [
              "\n",
              "  <div id=\"df-41d93378-130d-4359-8f65-d67af00902e6\">\n",
              "    <div class=\"colab-df-container\">\n",
              "      <div>\n",
              "<style scoped>\n",
              "    .dataframe tbody tr th:only-of-type {\n",
              "        vertical-align: middle;\n",
              "    }\n",
              "\n",
              "    .dataframe tbody tr th {\n",
              "        vertical-align: top;\n",
              "    }\n",
              "\n",
              "    .dataframe thead th {\n",
              "        text-align: right;\n",
              "    }\n",
              "</style>\n",
              "<table border=\"1\" class=\"dataframe\">\n",
              "  <thead>\n",
              "    <tr style=\"text-align: right;\">\n",
              "      <th></th>\n",
              "      <th>Age</th>\n",
              "      <th>DistanceFromHome</th>\n",
              "      <th>EmpEducationLevel</th>\n",
              "      <th>EmpEnvironmentSatisfaction</th>\n",
              "      <th>EmpHourlyRate</th>\n",
              "      <th>EmpJobInvolvement</th>\n",
              "      <th>EmpJobLevel</th>\n",
              "      <th>EmpJobSatisfaction</th>\n",
              "      <th>NumCompaniesWorked</th>\n",
              "      <th>EmpLastSalaryHikePercent</th>\n",
              "      <th>EmpRelationshipSatisfaction</th>\n",
              "      <th>TotalWorkExperienceInYears</th>\n",
              "      <th>TrainingTimesLastYear</th>\n",
              "      <th>EmpWorkLifeBalance</th>\n",
              "      <th>ExperienceYearsAtThisCompany</th>\n",
              "      <th>ExperienceYearsInCurrentRole</th>\n",
              "      <th>YearsSinceLastPromotion</th>\n",
              "      <th>YearsWithCurrManager</th>\n",
              "      <th>PerformanceRating</th>\n",
              "    </tr>\n",
              "  </thead>\n",
              "  <tbody>\n",
              "    <tr>\n",
              "      <th>count</th>\n",
              "      <td>1200.000000</td>\n",
              "      <td>1200.000000</td>\n",
              "      <td>1200.00000</td>\n",
              "      <td>1200.000000</td>\n",
              "      <td>1200.000000</td>\n",
              "      <td>1200.000000</td>\n",
              "      <td>1200.000000</td>\n",
              "      <td>1200.000000</td>\n",
              "      <td>1200.000000</td>\n",
              "      <td>1200.000000</td>\n",
              "      <td>1200.000000</td>\n",
              "      <td>1200.000000</td>\n",
              "      <td>1200.000000</td>\n",
              "      <td>1200.000000</td>\n",
              "      <td>1200.000000</td>\n",
              "      <td>1200.000000</td>\n",
              "      <td>1200.000000</td>\n",
              "      <td>1200.000000</td>\n",
              "      <td>1200.000000</td>\n",
              "    </tr>\n",
              "    <tr>\n",
              "      <th>mean</th>\n",
              "      <td>36.918333</td>\n",
              "      <td>9.165833</td>\n",
              "      <td>2.89250</td>\n",
              "      <td>2.715833</td>\n",
              "      <td>65.981667</td>\n",
              "      <td>2.731667</td>\n",
              "      <td>2.067500</td>\n",
              "      <td>2.732500</td>\n",
              "      <td>2.665000</td>\n",
              "      <td>15.222500</td>\n",
              "      <td>2.725000</td>\n",
              "      <td>11.330000</td>\n",
              "      <td>2.785833</td>\n",
              "      <td>2.744167</td>\n",
              "      <td>7.077500</td>\n",
              "      <td>4.291667</td>\n",
              "      <td>2.194167</td>\n",
              "      <td>4.105000</td>\n",
              "      <td>2.948333</td>\n",
              "    </tr>\n",
              "    <tr>\n",
              "      <th>std</th>\n",
              "      <td>9.087289</td>\n",
              "      <td>8.176636</td>\n",
              "      <td>1.04412</td>\n",
              "      <td>1.090599</td>\n",
              "      <td>20.211302</td>\n",
              "      <td>0.707164</td>\n",
              "      <td>1.107836</td>\n",
              "      <td>1.100888</td>\n",
              "      <td>2.469384</td>\n",
              "      <td>3.625918</td>\n",
              "      <td>1.075642</td>\n",
              "      <td>7.797228</td>\n",
              "      <td>1.263446</td>\n",
              "      <td>0.699374</td>\n",
              "      <td>6.236899</td>\n",
              "      <td>3.613744</td>\n",
              "      <td>3.221560</td>\n",
              "      <td>3.541576</td>\n",
              "      <td>0.518866</td>\n",
              "    </tr>\n",
              "    <tr>\n",
              "      <th>min</th>\n",
              "      <td>18.000000</td>\n",
              "      <td>1.000000</td>\n",
              "      <td>1.00000</td>\n",
              "      <td>1.000000</td>\n",
              "      <td>30.000000</td>\n",
              "      <td>1.000000</td>\n",
              "      <td>1.000000</td>\n",
              "      <td>1.000000</td>\n",
              "      <td>0.000000</td>\n",
              "      <td>11.000000</td>\n",
              "      <td>1.000000</td>\n",
              "      <td>0.000000</td>\n",
              "      <td>0.000000</td>\n",
              "      <td>1.000000</td>\n",
              "      <td>0.000000</td>\n",
              "      <td>0.000000</td>\n",
              "      <td>0.000000</td>\n",
              "      <td>0.000000</td>\n",
              "      <td>2.000000</td>\n",
              "    </tr>\n",
              "    <tr>\n",
              "      <th>25%</th>\n",
              "      <td>30.000000</td>\n",
              "      <td>2.000000</td>\n",
              "      <td>2.00000</td>\n",
              "      <td>2.000000</td>\n",
              "      <td>48.000000</td>\n",
              "      <td>2.000000</td>\n",
              "      <td>1.000000</td>\n",
              "      <td>2.000000</td>\n",
              "      <td>1.000000</td>\n",
              "      <td>12.000000</td>\n",
              "      <td>2.000000</td>\n",
              "      <td>6.000000</td>\n",
              "      <td>2.000000</td>\n",
              "      <td>2.000000</td>\n",
              "      <td>3.000000</td>\n",
              "      <td>2.000000</td>\n",
              "      <td>0.000000</td>\n",
              "      <td>2.000000</td>\n",
              "      <td>3.000000</td>\n",
              "    </tr>\n",
              "    <tr>\n",
              "      <th>50%</th>\n",
              "      <td>36.000000</td>\n",
              "      <td>7.000000</td>\n",
              "      <td>3.00000</td>\n",
              "      <td>3.000000</td>\n",
              "      <td>66.000000</td>\n",
              "      <td>3.000000</td>\n",
              "      <td>2.000000</td>\n",
              "      <td>3.000000</td>\n",
              "      <td>2.000000</td>\n",
              "      <td>14.000000</td>\n",
              "      <td>3.000000</td>\n",
              "      <td>10.000000</td>\n",
              "      <td>3.000000</td>\n",
              "      <td>3.000000</td>\n",
              "      <td>5.000000</td>\n",
              "      <td>3.000000</td>\n",
              "      <td>1.000000</td>\n",
              "      <td>3.000000</td>\n",
              "      <td>3.000000</td>\n",
              "    </tr>\n",
              "    <tr>\n",
              "      <th>75%</th>\n",
              "      <td>43.000000</td>\n",
              "      <td>14.000000</td>\n",
              "      <td>4.00000</td>\n",
              "      <td>4.000000</td>\n",
              "      <td>83.000000</td>\n",
              "      <td>3.000000</td>\n",
              "      <td>3.000000</td>\n",
              "      <td>4.000000</td>\n",
              "      <td>4.000000</td>\n",
              "      <td>18.000000</td>\n",
              "      <td>4.000000</td>\n",
              "      <td>15.000000</td>\n",
              "      <td>3.000000</td>\n",
              "      <td>3.000000</td>\n",
              "      <td>10.000000</td>\n",
              "      <td>7.000000</td>\n",
              "      <td>3.000000</td>\n",
              "      <td>7.000000</td>\n",
              "      <td>3.000000</td>\n",
              "    </tr>\n",
              "    <tr>\n",
              "      <th>max</th>\n",
              "      <td>60.000000</td>\n",
              "      <td>29.000000</td>\n",
              "      <td>5.00000</td>\n",
              "      <td>4.000000</td>\n",
              "      <td>100.000000</td>\n",
              "      <td>4.000000</td>\n",
              "      <td>5.000000</td>\n",
              "      <td>4.000000</td>\n",
              "      <td>9.000000</td>\n",
              "      <td>25.000000</td>\n",
              "      <td>4.000000</td>\n",
              "      <td>40.000000</td>\n",
              "      <td>6.000000</td>\n",
              "      <td>4.000000</td>\n",
              "      <td>40.000000</td>\n",
              "      <td>18.000000</td>\n",
              "      <td>15.000000</td>\n",
              "      <td>17.000000</td>\n",
              "      <td>4.000000</td>\n",
              "    </tr>\n",
              "  </tbody>\n",
              "</table>\n",
              "</div>\n",
              "      <button class=\"colab-df-convert\" onclick=\"convertToInteractive('df-41d93378-130d-4359-8f65-d67af00902e6')\"\n",
              "              title=\"Convert this dataframe to an interactive table.\"\n",
              "              style=\"display:none;\">\n",
              "        \n",
              "  <svg xmlns=\"http://www.w3.org/2000/svg\" height=\"24px\"viewBox=\"0 0 24 24\"\n",
              "       width=\"24px\">\n",
              "    <path d=\"M0 0h24v24H0V0z\" fill=\"none\"/>\n",
              "    <path d=\"M18.56 5.44l.94 2.06.94-2.06 2.06-.94-2.06-.94-.94-2.06-.94 2.06-2.06.94zm-11 1L8.5 8.5l.94-2.06 2.06-.94-2.06-.94L8.5 2.5l-.94 2.06-2.06.94zm10 10l.94 2.06.94-2.06 2.06-.94-2.06-.94-.94-2.06-.94 2.06-2.06.94z\"/><path d=\"M17.41 7.96l-1.37-1.37c-.4-.4-.92-.59-1.43-.59-.52 0-1.04.2-1.43.59L10.3 9.45l-7.72 7.72c-.78.78-.78 2.05 0 2.83L4 21.41c.39.39.9.59 1.41.59.51 0 1.02-.2 1.41-.59l7.78-7.78 2.81-2.81c.8-.78.8-2.07 0-2.86zM5.41 20L4 18.59l7.72-7.72 1.47 1.35L5.41 20z\"/>\n",
              "  </svg>\n",
              "      </button>\n",
              "      \n",
              "  <style>\n",
              "    .colab-df-container {\n",
              "      display:flex;\n",
              "      flex-wrap:wrap;\n",
              "      gap: 12px;\n",
              "    }\n",
              "\n",
              "    .colab-df-convert {\n",
              "      background-color: #E8F0FE;\n",
              "      border: none;\n",
              "      border-radius: 50%;\n",
              "      cursor: pointer;\n",
              "      display: none;\n",
              "      fill: #1967D2;\n",
              "      height: 32px;\n",
              "      padding: 0 0 0 0;\n",
              "      width: 32px;\n",
              "    }\n",
              "\n",
              "    .colab-df-convert:hover {\n",
              "      background-color: #E2EBFA;\n",
              "      box-shadow: 0px 1px 2px rgba(60, 64, 67, 0.3), 0px 1px 3px 1px rgba(60, 64, 67, 0.15);\n",
              "      fill: #174EA6;\n",
              "    }\n",
              "\n",
              "    [theme=dark] .colab-df-convert {\n",
              "      background-color: #3B4455;\n",
              "      fill: #D2E3FC;\n",
              "    }\n",
              "\n",
              "    [theme=dark] .colab-df-convert:hover {\n",
              "      background-color: #434B5C;\n",
              "      box-shadow: 0px 1px 3px 1px rgba(0, 0, 0, 0.15);\n",
              "      filter: drop-shadow(0px 1px 2px rgba(0, 0, 0, 0.3));\n",
              "      fill: #FFFFFF;\n",
              "    }\n",
              "  </style>\n",
              "\n",
              "      <script>\n",
              "        const buttonEl =\n",
              "          document.querySelector('#df-41d93378-130d-4359-8f65-d67af00902e6 button.colab-df-convert');\n",
              "        buttonEl.style.display =\n",
              "          google.colab.kernel.accessAllowed ? 'block' : 'none';\n",
              "\n",
              "        async function convertToInteractive(key) {\n",
              "          const element = document.querySelector('#df-41d93378-130d-4359-8f65-d67af00902e6');\n",
              "          const dataTable =\n",
              "            await google.colab.kernel.invokeFunction('convertToInteractive',\n",
              "                                                     [key], {});\n",
              "          if (!dataTable) return;\n",
              "\n",
              "          const docLinkHtml = 'Like what you see? Visit the ' +\n",
              "            '<a target=\"_blank\" href=https://colab.research.google.com/notebooks/data_table.ipynb>data table notebook</a>'\n",
              "            + ' to learn more about interactive tables.';\n",
              "          element.innerHTML = '';\n",
              "          dataTable['output_type'] = 'display_data';\n",
              "          await google.colab.output.renderOutput(dataTable, element);\n",
              "          const docLink = document.createElement('div');\n",
              "          docLink.innerHTML = docLinkHtml;\n",
              "          element.appendChild(docLink);\n",
              "        }\n",
              "      </script>\n",
              "    </div>\n",
              "  </div>\n",
              "  "
            ]
          },
          "metadata": {},
          "execution_count": 11
        }
      ]
    },
    {
      "cell_type": "markdown",
      "source": [
        "#####Employement number has no effect on the performance rating or the attrition. Thus dropping it from the table."
      ],
      "metadata": {
        "id": "_7IwOZ7ZZEia"
      }
    },
    {
      "cell_type": "code",
      "source": [
        "df = df.drop(['EmpNumber'], axis = 1)"
      ],
      "metadata": {
        "id": "voqzy9WaYU2T"
      },
      "execution_count": null,
      "outputs": []
    },
    {
      "cell_type": "markdown",
      "source": [
        "######Finding the value counts of the performance rating and the attrition."
      ],
      "metadata": {
        "id": "7-gIkbG8ZmY9"
      }
    },
    {
      "cell_type": "code",
      "source": [
        "df['PerformanceRating'].value_counts()"
      ],
      "metadata": {
        "id": "q56Cc3eeqG35",
        "colab": {
          "base_uri": "https://localhost:8080/"
        },
        "outputId": "8d78dff8-2846-4670-c89e-28166f53d5d5"
      },
      "execution_count": null,
      "outputs": [
        {
          "output_type": "execute_result",
          "data": {
            "text/plain": [
              "3    874\n",
              "2    194\n",
              "4    132\n",
              "Name: PerformanceRating, dtype: int64"
            ]
          },
          "metadata": {},
          "execution_count": 13
        }
      ]
    },
    {
      "cell_type": "code",
      "source": [
        "df['Attrition'].value_counts()"
      ],
      "metadata": {
        "colab": {
          "base_uri": "https://localhost:8080/"
        },
        "id": "lrWpFLihYHcu",
        "outputId": "6ce380ec-e698-4e1f-c967-e513e36ef59e"
      },
      "execution_count": null,
      "outputs": [
        {
          "output_type": "execute_result",
          "data": {
            "text/plain": [
              "No     1022\n",
              "Yes     178\n",
              "Name: Attrition, dtype: int64"
            ]
          },
          "metadata": {},
          "execution_count": 14
        }
      ]
    },
    {
      "cell_type": "code",
      "source": [
        "df['EmpDepartment'].unique()"
      ],
      "metadata": {
        "colab": {
          "base_uri": "https://localhost:8080/"
        },
        "id": "c64v7yCydQLt",
        "outputId": "f3d632ee-370e-4cb7-f14f-1f60ad20813b"
      },
      "execution_count": null,
      "outputs": [
        {
          "output_type": "execute_result",
          "data": {
            "text/plain": [
              "array(['Sales', 'Human Resources', 'Development', 'Data Science',\n",
              "       'Research & Development', 'Finance'], dtype=object)"
            ]
          },
          "metadata": {},
          "execution_count": 15
        }
      ]
    },
    {
      "cell_type": "code",
      "source": [
        "df['EmpJobRole'].unique()"
      ],
      "metadata": {
        "colab": {
          "base_uri": "https://localhost:8080/"
        },
        "id": "-N6uWX7DdVry",
        "outputId": "97e6ae6d-4b0c-4e18-8f51-d4a346b07d2f"
      },
      "execution_count": null,
      "outputs": [
        {
          "output_type": "execute_result",
          "data": {
            "text/plain": [
              "array(['Sales Executive', 'Manager', 'Developer', 'Sales Representative',\n",
              "       'Human Resources', 'Senior Developer', 'Data Scientist',\n",
              "       'Senior Manager R&D', 'Laboratory Technician',\n",
              "       'Manufacturing Director', 'Research Scientist',\n",
              "       'Healthcare Representative', 'Research Director', 'Manager R&D',\n",
              "       'Finance Manager', 'Technical Architect', 'Business Analyst',\n",
              "       'Technical Lead', 'Delivery Manager'], dtype=object)"
            ]
          },
          "metadata": {},
          "execution_count": 16
        }
      ]
    },
    {
      "cell_type": "markdown",
      "source": [
        "##Correlation plot and heatmap of numerical featues."
      ],
      "metadata": {
        "id": "NQxJe5RIZyoF"
      }
    },
    {
      "cell_type": "code",
      "source": [
        "corr = df.corr()\n",
        "corr.style.background_gradient(cmap= 'YlGnBu')"
      ],
      "metadata": {
        "colab": {
          "base_uri": "https://localhost:8080/",
          "height": 665
        },
        "id": "3dOqWlYasDRW",
        "outputId": "2eee655f-7c44-42a1-9be2-096ce6b2d125"
      },
      "execution_count": null,
      "outputs": [
        {
          "output_type": "execute_result",
          "data": {
            "text/plain": [
              "<pandas.io.formats.style.Styler at 0x7fe3eff55c90>"
            ],
            "text/html": [
              "<style type=\"text/css\">\n",
              "#T_84fda_row0_col0, #T_84fda_row1_col1, #T_84fda_row2_col2, #T_84fda_row3_col3, #T_84fda_row4_col4, #T_84fda_row5_col5, #T_84fda_row6_col6, #T_84fda_row7_col7, #T_84fda_row8_col8, #T_84fda_row9_col9, #T_84fda_row10_col10, #T_84fda_row11_col11, #T_84fda_row12_col12, #T_84fda_row13_col13, #T_84fda_row14_col14, #T_84fda_row15_col15, #T_84fda_row16_col16, #T_84fda_row17_col17, #T_84fda_row18_col18 {\n",
              "  background-color: #081d58;\n",
              "  color: #f1f1f1;\n",
              "}\n",
              "#T_84fda_row0_col1, #T_84fda_row0_col5, #T_84fda_row2_col5, #T_84fda_row2_col7, #T_84fda_row3_col6, #T_84fda_row5_col0, #T_84fda_row8_col3, #T_84fda_row12_col10, #T_84fda_row14_col1, #T_84fda_row14_col7, #T_84fda_row14_col13, #T_84fda_row15_col1, #T_84fda_row15_col7, #T_84fda_row16_col10, #T_84fda_row16_col12, #T_84fda_row18_col7 {\n",
              "  background-color: #f6fbc5;\n",
              "  color: #000000;\n",
              "}\n",
              "#T_84fda_row0_col2, #T_84fda_row2_col0, #T_84fda_row17_col0 {\n",
              "  background-color: #cbebb4;\n",
              "  color: #000000;\n",
              "}\n",
              "#T_84fda_row0_col3, #T_84fda_row0_col7, #T_84fda_row1_col0, #T_84fda_row1_col7, #T_84fda_row5_col2, #T_84fda_row6_col1, #T_84fda_row7_col6, #T_84fda_row14_col4, #T_84fda_row17_col1 {\n",
              "  background-color: #f7fcc6;\n",
              "  color: #000000;\n",
              "}\n",
              "#T_84fda_row0_col4, #T_84fda_row1_col17, #T_84fda_row9_col15, #T_84fda_row12_col14, #T_84fda_row17_col2 {\n",
              "  background-color: #edf8b2;\n",
              "  color: #000000;\n",
              "}\n",
              "#T_84fda_row0_col6, #T_84fda_row16_col17 {\n",
              "  background-color: #34a9c3;\n",
              "  color: #f1f1f1;\n",
              "}\n",
              "#T_84fda_row0_col8, #T_84fda_row18_col9 {\n",
              "  background-color: #85cfba;\n",
              "  color: #000000;\n",
              "}\n",
              "#T_84fda_row0_col9, #T_84fda_row1_col5, #T_84fda_row3_col5, #T_84fda_row3_col13, #T_84fda_row5_col6, #T_84fda_row6_col3, #T_84fda_row7_col1, #T_84fda_row10_col7, #T_84fda_row11_col9, #T_84fda_row12_col4, #T_84fda_row15_col5, #T_84fda_row15_col9, #T_84fda_row17_col7 {\n",
              "  background-color: #f9fdcc;\n",
              "  color: #000000;\n",
              "}\n",
              "#T_84fda_row0_col10, #T_84fda_row1_col6, #T_84fda_row1_col9, #T_84fda_row1_col11, #T_84fda_row2_col1, #T_84fda_row4_col11, #T_84fda_row7_col17, #T_84fda_row9_col1, #T_84fda_row10_col0, #T_84fda_row11_col4, #T_84fda_row15_col13, #T_84fda_row16_col2, #T_84fda_row16_col8 {\n",
              "  background-color: #f3fabd;\n",
              "  color: #000000;\n",
              "}\n",
              "#T_84fda_row0_col11 {\n",
              "  background-color: #2072b1;\n",
              "  color: #f1f1f1;\n",
              "}\n",
              "#T_84fda_row0_col12, #T_84fda_row1_col10, #T_84fda_row7_col5, #T_84fda_row8_col9, #T_84fda_row9_col0, #T_84fda_row10_col1, #T_84fda_row11_col3, #T_84fda_row12_col9, #T_84fda_row17_col10 {\n",
              "  background-color: #fafdcf;\n",
              "  color: #000000;\n",
              "}\n",
              "#T_84fda_row0_col13, #T_84fda_row2_col10, #T_84fda_row3_col1, #T_84fda_row4_col12, #T_84fda_row5_col12, #T_84fda_row6_col9, #T_84fda_row7_col13, #T_84fda_row8_col1, #T_84fda_row9_col13, #T_84fda_row11_col12, #T_84fda_row13_col5, #T_84fda_row14_col9 {\n",
              "  background-color: #fcfed1;\n",
              "  color: #000000;\n",
              "}\n",
              "#T_84fda_row0_col14 {\n",
              "  background-color: #75c9bd;\n",
              "  color: #000000;\n",
              "}\n",
              "#T_84fda_row0_col15 {\n",
              "  background-color: #a0dab8;\n",
              "  color: #000000;\n",
              "}\n",
              "#T_84fda_row0_col16 {\n",
              "  background-color: #95d5b9;\n",
              "  color: #000000;\n",
              "}\n",
              "#T_84fda_row0_col17 {\n",
              "  background-color: #b0e0b6;\n",
              "  color: #000000;\n",
              "}\n",
              "#T_84fda_row0_col18, #T_84fda_row4_col18 {\n",
              "  background-color: #f0f9b7;\n",
              "  color: #000000;\n",
              "}\n",
              "#T_84fda_row1_col2, #T_84fda_row5_col14, #T_84fda_row10_col11, #T_84fda_row12_col13, #T_84fda_row13_col11 {\n",
              "  background-color: #f4fbc0;\n",
              "  color: #000000;\n",
              "}\n",
              "#T_84fda_row1_col3, #T_84fda_row3_col10, #T_84fda_row4_col9, #T_84fda_row5_col13, #T_84fda_row13_col9, #T_84fda_row15_col8, #T_84fda_row16_col9, #T_84fda_row18_col5 {\n",
              "  background-color: #fbfdd0;\n",
              "  color: #000000;\n",
              "}\n",
              "#T_84fda_row1_col4, #T_84fda_row2_col4, #T_84fda_row6_col18, #T_84fda_row7_col9, #T_84fda_row13_col4 {\n",
              "  background-color: #f4fbc1;\n",
              "  color: #000000;\n",
              "}\n",
              "#T_84fda_row1_col8, #T_84fda_row8_col10, #T_84fda_row9_col14, #T_84fda_row12_col17 {\n",
              "  background-color: #f1fabb;\n",
              "  color: #000000;\n",
              "}\n",
              "#T_84fda_row1_col12, #T_84fda_row3_col4, #T_84fda_row15_col18, #T_84fda_row16_col5, #T_84fda_row17_col8, #T_84fda_row18_col14 {\n",
              "  background-color: #fdfed4;\n",
              "  color: #000000;\n",
              "}\n",
              "#T_84fda_row1_col13, #T_84fda_row3_col2, #T_84fda_row3_col9, #T_84fda_row4_col3, #T_84fda_row4_col7, #T_84fda_row7_col4, #T_84fda_row8_col12, #T_84fda_row8_col14, #T_84fda_row9_col3, #T_84fda_row9_col10, #T_84fda_row13_col1, #T_84fda_row14_col5, #T_84fda_row14_col8, #T_84fda_row16_col18, #T_84fda_row18_col0, #T_84fda_row18_col1, #T_84fda_row18_col6, #T_84fda_row18_col11, #T_84fda_row18_col15, #T_84fda_row18_col16, #T_84fda_row18_col17 {\n",
              "  background-color: #ffffd9;\n",
              "  color: #000000;\n",
              "}\n",
              "#T_84fda_row1_col14, #T_84fda_row4_col16, #T_84fda_row5_col18, #T_84fda_row6_col2, #T_84fda_row13_col14, #T_84fda_row18_col8 {\n",
              "  background-color: #eaf7b1;\n",
              "  color: #000000;\n",
              "}\n",
              "#T_84fda_row1_col15 {\n",
              "  background-color: #e7f6b1;\n",
              "  color: #000000;\n",
              "}\n",
              "#T_84fda_row1_col16, #T_84fda_row3_col16 {\n",
              "  background-color: #e5f5b2;\n",
              "  color: #000000;\n",
              "}\n",
              "#T_84fda_row1_col18, #T_84fda_row4_col17, #T_84fda_row9_col8, #T_84fda_row9_col17, #T_84fda_row10_col17 {\n",
              "  background-color: #f0f9b8;\n",
              "  color: #000000;\n",
              "}\n",
              "#T_84fda_row2_col3, #T_84fda_row8_col7, #T_84fda_row12_col1, #T_84fda_row12_col5 {\n",
              "  background-color: #fdfed5;\n",
              "  color: #000000;\n",
              "}\n",
              "#T_84fda_row2_col6, #T_84fda_row10_col8, #T_84fda_row10_col16 {\n",
              "  background-color: #e1f3b2;\n",
              "  color: #000000;\n",
              "}\n",
              "#T_84fda_row2_col8, #T_84fda_row6_col8 {\n",
              "  background-color: #ceecb3;\n",
              "  color: #000000;\n",
              "}\n",
              "#T_84fda_row2_col9, #T_84fda_row3_col12, #T_84fda_row4_col2, #T_84fda_row4_col10, #T_84fda_row5_col1, #T_84fda_row6_col12, #T_84fda_row9_col4, #T_84fda_row12_col3, #T_84fda_row13_col3, #T_84fda_row14_col18, #T_84fda_row17_col5 {\n",
              "  background-color: #f8fcca;\n",
              "  color: #000000;\n",
              "}\n",
              "#T_84fda_row2_col11 {\n",
              "  background-color: #d5efb3;\n",
              "  color: #000000;\n",
              "}\n",
              "#T_84fda_row2_col12, #T_84fda_row5_col11, #T_84fda_row7_col0, #T_84fda_row7_col2, #T_84fda_row7_col11, #T_84fda_row9_col2, #T_84fda_row9_col5, #T_84fda_row9_col12, #T_84fda_row10_col3, #T_84fda_row10_col13, #T_84fda_row11_col7, #T_84fda_row12_col7, #T_84fda_row13_col10, #T_84fda_row17_col3, #T_84fda_row17_col9, #T_84fda_row17_col12, #T_84fda_row17_col18 {\n",
              "  background-color: #fafdce;\n",
              "  color: #000000;\n",
              "}\n",
              "#T_84fda_row2_col13, #T_84fda_row3_col0, #T_84fda_row3_col11, #T_84fda_row4_col6, #T_84fda_row5_col3, #T_84fda_row6_col7, #T_84fda_row9_col6, #T_84fda_row15_col4, #T_84fda_row16_col4, #T_84fda_row17_col13 {\n",
              "  background-color: #f8fcc9;\n",
              "  color: #000000;\n",
              "}\n",
              "#T_84fda_row2_col14, #T_84fda_row11_col2 {\n",
              "  background-color: #dcf1b2;\n",
              "  color: #000000;\n",
              "}\n",
              "#T_84fda_row2_col15 {\n",
              "  background-color: #dbf1b2;\n",
              "  color: #000000;\n",
              "}\n",
              "#T_84fda_row2_col16, #T_84fda_row2_col17, #T_84fda_row8_col6 {\n",
              "  background-color: #daf0b3;\n",
              "  color: #000000;\n",
              "}\n",
              "#T_84fda_row2_col18, #T_84fda_row8_col18, #T_84fda_row18_col13 {\n",
              "  background-color: #e2f4b2;\n",
              "  color: #000000;\n",
              "}\n",
              "#T_84fda_row3_col7, #T_84fda_row4_col1, #T_84fda_row4_col13, #T_84fda_row5_col7, #T_84fda_row5_col10, #T_84fda_row8_col5, #T_84fda_row9_col11, #T_84fda_row10_col5, #T_84fda_row11_col10, #T_84fda_row11_col13, #T_84fda_row14_col10, #T_84fda_row14_col12, #T_84fda_row15_col12, #T_84fda_row16_col1, #T_84fda_row16_col3, #T_84fda_row16_col7, #T_84fda_row16_col13, #T_84fda_row17_col4, #T_84fda_row18_col2 {\n",
              "  background-color: #f7fcc7;\n",
              "  color: #000000;\n",
              "}\n",
              "#T_84fda_row3_col8, #T_84fda_row5_col8, #T_84fda_row5_col15, #T_84fda_row7_col15, #T_84fda_row9_col16 {\n",
              "  background-color: #ecf7b1;\n",
              "  color: #000000;\n",
              "}\n",
              "#T_84fda_row3_col14, #T_84fda_row4_col14, #T_84fda_row5_col4, #T_84fda_row7_col14, #T_84fda_row8_col16, #T_84fda_row13_col6, #T_84fda_row13_col8 {\n",
              "  background-color: #eff9b5;\n",
              "  color: #000000;\n",
              "}\n",
              "#T_84fda_row3_col15, #T_84fda_row4_col8 {\n",
              "  background-color: #e6f5b2;\n",
              "  color: #000000;\n",
              "}\n",
              "#T_84fda_row3_col17, #T_84fda_row4_col0, #T_84fda_row8_col4, #T_84fda_row10_col15, #T_84fda_row15_col2 {\n",
              "  background-color: #f1faba;\n",
              "  color: #000000;\n",
              "}\n",
              "#T_84fda_row3_col18 {\n",
              "  background-color: #4ab9c3;\n",
              "  color: #f1f1f1;\n",
              "}\n",
              "#T_84fda_row4_col5, #T_84fda_row6_col13, #T_84fda_row9_col7 {\n",
              "  background-color: #f2fabc;\n",
              "  color: #000000;\n",
              "}\n",
              "#T_84fda_row4_col15, #T_84fda_row5_col17, #T_84fda_row13_col17 {\n",
              "  background-color: #eef8b3;\n",
              "  color: #000000;\n",
              "}\n",
              "#T_84fda_row5_col9, #T_84fda_row6_col4, #T_84fda_row6_col10, #T_84fda_row7_col3, #T_84fda_row8_col13, #T_84fda_row8_col15, #T_84fda_row12_col11, #T_84fda_row13_col2, #T_84fda_row13_col7, #T_84fda_row14_col3, #T_84fda_row18_col12 {\n",
              "  background-color: #f9fdcb;\n",
              "  color: #000000;\n",
              "}\n",
              "#T_84fda_row5_col16, #T_84fda_row10_col14, #T_84fda_row10_col18 {\n",
              "  background-color: #edf8b1;\n",
              "  color: #000000;\n",
              "}\n",
              "#T_84fda_row6_col0, #T_84fda_row11_col15 {\n",
              "  background-color: #39adc3;\n",
              "  color: #f1f1f1;\n",
              "}\n",
              "#T_84fda_row6_col5, #T_84fda_row10_col9 {\n",
              "  background-color: #feffd8;\n",
              "  color: #000000;\n",
              "}\n",
              "#T_84fda_row6_col11, #T_84fda_row11_col6 {\n",
              "  background-color: #234da0;\n",
              "  color: #f1f1f1;\n",
              "}\n",
              "#T_84fda_row6_col14 {\n",
              "  background-color: #269bc1;\n",
              "  color: #f1f1f1;\n",
              "}\n",
              "#T_84fda_row6_col15 {\n",
              "  background-color: #4ebbc2;\n",
              "  color: #000000;\n",
              "}\n",
              "#T_84fda_row6_col16, #T_84fda_row16_col11 {\n",
              "  background-color: #59bfc0;\n",
              "  color: #000000;\n",
              "}\n",
              "#T_84fda_row6_col17, #T_84fda_row15_col6 {\n",
              "  background-color: #5dc0c0;\n",
              "  color: #000000;\n",
              "}\n",
              "#T_84fda_row7_col8, #T_84fda_row10_col4, #T_84fda_row10_col6, #T_84fda_row10_col12, #T_84fda_row12_col6, #T_84fda_row15_col3 {\n",
              "  background-color: #f5fbc2;\n",
              "  color: #000000;\n",
              "}\n",
              "#T_84fda_row7_col10, #T_84fda_row7_col12, #T_84fda_row10_col2, #T_84fda_row12_col0, #T_84fda_row12_col2, #T_84fda_row13_col0, #T_84fda_row18_col4, #T_84fda_row18_col10 {\n",
              "  background-color: #fcfed3;\n",
              "  color: #000000;\n",
              "}\n",
              "#T_84fda_row7_col16, #T_84fda_row12_col15, #T_84fda_row12_col18 {\n",
              "  background-color: #e9f7b1;\n",
              "  color: #000000;\n",
              "}\n",
              "#T_84fda_row7_col18 {\n",
              "  background-color: #e8f6b1;\n",
              "  color: #000000;\n",
              "}\n",
              "#T_84fda_row8_col0, #T_84fda_row11_col8 {\n",
              "  background-color: #a5dcb7;\n",
              "  color: #000000;\n",
              "}\n",
              "#T_84fda_row8_col2, #T_84fda_row12_col16, #T_84fda_row13_col16 {\n",
              "  background-color: #e3f4b2;\n",
              "  color: #000000;\n",
              "}\n",
              "#T_84fda_row8_col11 {\n",
              "  background-color: #bbe4b5;\n",
              "  color: #000000;\n",
              "}\n",
              "#T_84fda_row8_col17, #T_84fda_row11_col5, #T_84fda_row15_col10 {\n",
              "  background-color: #feffd6;\n",
              "  color: #000000;\n",
              "}\n",
              "#T_84fda_row9_col18 {\n",
              "  background-color: #65c3bf;\n",
              "  color: #000000;\n",
              "}\n",
              "#T_84fda_row11_col0 {\n",
              "  background-color: #2075b3;\n",
              "  color: #f1f1f1;\n",
              "}\n",
              "#T_84fda_row11_col1, #T_84fda_row12_col8 {\n",
              "  background-color: #f5fbc4;\n",
              "  color: #000000;\n",
              "}\n",
              "#T_84fda_row11_col14, #T_84fda_row14_col16 {\n",
              "  background-color: #1f7db6;\n",
              "  color: #f1f1f1;\n",
              "}\n",
              "#T_84fda_row11_col16 {\n",
              "  background-color: #42b6c4;\n",
              "  color: #f1f1f1;\n",
              "}\n",
              "#T_84fda_row11_col17 {\n",
              "  background-color: #3bb0c3;\n",
              "  color: #f1f1f1;\n",
              "}\n",
              "#T_84fda_row11_col18, #T_84fda_row13_col12 {\n",
              "  background-color: #f3fabf;\n",
              "  color: #000000;\n",
              "}\n",
              "#T_84fda_row13_col15 {\n",
              "  background-color: #e0f3b2;\n",
              "  color: #000000;\n",
              "}\n",
              "#T_84fda_row13_col18 {\n",
              "  background-color: #c6e9b4;\n",
              "  color: #000000;\n",
              "}\n",
              "#T_84fda_row14_col0 {\n",
              "  background-color: #90d4b9;\n",
              "  color: #000000;\n",
              "}\n",
              "#T_84fda_row14_col2 {\n",
              "  background-color: #eff9b6;\n",
              "  color: #000000;\n",
              "}\n",
              "#T_84fda_row14_col6 {\n",
              "  background-color: #2ca1c2;\n",
              "  color: #f1f1f1;\n",
              "}\n",
              "#T_84fda_row14_col11 {\n",
              "  background-color: #1e83ba;\n",
              "  color: #f1f1f1;\n",
              "}\n",
              "#T_84fda_row14_col15 {\n",
              "  background-color: #234fa1;\n",
              "  color: #f1f1f1;\n",
              "}\n",
              "#T_84fda_row14_col17, #T_84fda_row17_col14 {\n",
              "  background-color: #2351a2;\n",
              "  color: #f1f1f1;\n",
              "}\n",
              "#T_84fda_row15_col0 {\n",
              "  background-color: #c8e9b4;\n",
              "  color: #000000;\n",
              "}\n",
              "#T_84fda_row15_col11, #T_84fda_row17_col11 {\n",
              "  background-color: #44b7c4;\n",
              "  color: #f1f1f1;\n",
              "}\n",
              "#T_84fda_row15_col14 {\n",
              "  background-color: #2350a1;\n",
              "  color: #f1f1f1;\n",
              "}\n",
              "#T_84fda_row15_col16 {\n",
              "  background-color: #2296c1;\n",
              "  color: #f1f1f1;\n",
              "}\n",
              "#T_84fda_row15_col17 {\n",
              "  background-color: #225aa6;\n",
              "  color: #f1f1f1;\n",
              "}\n",
              "#T_84fda_row16_col0 {\n",
              "  background-color: #c2e7b4;\n",
              "  color: #000000;\n",
              "}\n",
              "#T_84fda_row16_col6 {\n",
              "  background-color: #6fc7bd;\n",
              "  color: #000000;\n",
              "}\n",
              "#T_84fda_row16_col14 {\n",
              "  background-color: #1f82b9;\n",
              "  color: #f1f1f1;\n",
              "}\n",
              "#T_84fda_row16_col15 {\n",
              "  background-color: #2498c1;\n",
              "  color: #f1f1f1;\n",
              "}\n",
              "#T_84fda_row17_col6 {\n",
              "  background-color: #69c5be;\n",
              "  color: #000000;\n",
              "}\n",
              "#T_84fda_row17_col15 {\n",
              "  background-color: #2259a6;\n",
              "  color: #f1f1f1;\n",
              "}\n",
              "#T_84fda_row17_col16 {\n",
              "  background-color: #2ea3c2;\n",
              "  color: #f1f1f1;\n",
              "}\n",
              "#T_84fda_row18_col3 {\n",
              "  background-color: #67c4be;\n",
              "  color: #000000;\n",
              "}\n",
              "</style>\n",
              "<table id=\"T_84fda_\" class=\"dataframe\">\n",
              "  <thead>\n",
              "    <tr>\n",
              "      <th class=\"blank level0\" >&nbsp;</th>\n",
              "      <th class=\"col_heading level0 col0\" >Age</th>\n",
              "      <th class=\"col_heading level0 col1\" >DistanceFromHome</th>\n",
              "      <th class=\"col_heading level0 col2\" >EmpEducationLevel</th>\n",
              "      <th class=\"col_heading level0 col3\" >EmpEnvironmentSatisfaction</th>\n",
              "      <th class=\"col_heading level0 col4\" >EmpHourlyRate</th>\n",
              "      <th class=\"col_heading level0 col5\" >EmpJobInvolvement</th>\n",
              "      <th class=\"col_heading level0 col6\" >EmpJobLevel</th>\n",
              "      <th class=\"col_heading level0 col7\" >EmpJobSatisfaction</th>\n",
              "      <th class=\"col_heading level0 col8\" >NumCompaniesWorked</th>\n",
              "      <th class=\"col_heading level0 col9\" >EmpLastSalaryHikePercent</th>\n",
              "      <th class=\"col_heading level0 col10\" >EmpRelationshipSatisfaction</th>\n",
              "      <th class=\"col_heading level0 col11\" >TotalWorkExperienceInYears</th>\n",
              "      <th class=\"col_heading level0 col12\" >TrainingTimesLastYear</th>\n",
              "      <th class=\"col_heading level0 col13\" >EmpWorkLifeBalance</th>\n",
              "      <th class=\"col_heading level0 col14\" >ExperienceYearsAtThisCompany</th>\n",
              "      <th class=\"col_heading level0 col15\" >ExperienceYearsInCurrentRole</th>\n",
              "      <th class=\"col_heading level0 col16\" >YearsSinceLastPromotion</th>\n",
              "      <th class=\"col_heading level0 col17\" >YearsWithCurrManager</th>\n",
              "      <th class=\"col_heading level0 col18\" >PerformanceRating</th>\n",
              "    </tr>\n",
              "  </thead>\n",
              "  <tbody>\n",
              "    <tr>\n",
              "      <th id=\"T_84fda_level0_row0\" class=\"row_heading level0 row0\" >Age</th>\n",
              "      <td id=\"T_84fda_row0_col0\" class=\"data row0 col0\" >1.000000</td>\n",
              "      <td id=\"T_84fda_row0_col1\" class=\"data row0 col1\" >0.020937</td>\n",
              "      <td id=\"T_84fda_row0_col2\" class=\"data row0 col2\" >0.207313</td>\n",
              "      <td id=\"T_84fda_row0_col3\" class=\"data row0 col3\" >0.013814</td>\n",
              "      <td id=\"T_84fda_row0_col4\" class=\"data row0 col4\" >0.062867</td>\n",
              "      <td id=\"T_84fda_row0_col5\" class=\"data row0 col5\" >0.027216</td>\n",
              "      <td id=\"T_84fda_row0_col6\" class=\"data row0 col6\" >0.509139</td>\n",
              "      <td id=\"T_84fda_row0_col7\" class=\"data row0 col7\" >-0.002436</td>\n",
              "      <td id=\"T_84fda_row0_col8\" class=\"data row0 col8\" >0.284408</td>\n",
              "      <td id=\"T_84fda_row0_col9\" class=\"data row0 col9\" >-0.006105</td>\n",
              "      <td id=\"T_84fda_row0_col10\" class=\"data row0 col10\" >0.049749</td>\n",
              "      <td id=\"T_84fda_row0_col11\" class=\"data row0 col11\" >0.680886</td>\n",
              "      <td id=\"T_84fda_row0_col12\" class=\"data row0 col12\" >-0.016053</td>\n",
              "      <td id=\"T_84fda_row0_col13\" class=\"data row0 col13\" >-0.019563</td>\n",
              "      <td id=\"T_84fda_row0_col14\" class=\"data row0 col14\" >0.318852</td>\n",
              "      <td id=\"T_84fda_row0_col15\" class=\"data row0 col15\" >0.217163</td>\n",
              "      <td id=\"T_84fda_row0_col16\" class=\"data row0 col16\" >0.228199</td>\n",
              "      <td id=\"T_84fda_row0_col17\" class=\"data row0 col17\" >0.205098</td>\n",
              "      <td id=\"T_84fda_row0_col18\" class=\"data row0 col18\" >-0.040164</td>\n",
              "    </tr>\n",
              "    <tr>\n",
              "      <th id=\"T_84fda_level0_row1\" class=\"row_heading level0 row1\" >DistanceFromHome</th>\n",
              "      <td id=\"T_84fda_row1_col0\" class=\"data row1 col0\" >0.020937</td>\n",
              "      <td id=\"T_84fda_row1_col1\" class=\"data row1 col1\" >1.000000</td>\n",
              "      <td id=\"T_84fda_row1_col2\" class=\"data row1 col2\" >0.045856</td>\n",
              "      <td id=\"T_84fda_row1_col3\" class=\"data row1 col3\" >-0.017719</td>\n",
              "      <td id=\"T_84fda_row1_col4\" class=\"data row1 col4\" >0.013730</td>\n",
              "      <td id=\"T_84fda_row1_col5\" class=\"data row1 col5\" >0.003231</td>\n",
              "      <td id=\"T_84fda_row1_col6\" class=\"data row1 col6\" >0.017270</td>\n",
              "      <td id=\"T_84fda_row1_col7\" class=\"data row1 col7\" >-0.003036</td>\n",
              "      <td id=\"T_84fda_row1_col8\" class=\"data row1 col8\" >-0.021411</td>\n",
              "      <td id=\"T_84fda_row1_col9\" class=\"data row1 col9\" >0.044974</td>\n",
              "      <td id=\"T_84fda_row1_col10\" class=\"data row1 col10\" >-0.009509</td>\n",
              "      <td id=\"T_84fda_row1_col11\" class=\"data row1 col11\" >0.027306</td>\n",
              "      <td id=\"T_84fda_row1_col12\" class=\"data row1 col12\" >-0.032082</td>\n",
              "      <td id=\"T_84fda_row1_col13\" class=\"data row1 col13\" >-0.044788</td>\n",
              "      <td id=\"T_84fda_row1_col14\" class=\"data row1 col14\" >0.021908</td>\n",
              "      <td id=\"T_84fda_row1_col15\" class=\"data row1 col15\" >0.019898</td>\n",
              "      <td id=\"T_84fda_row1_col16\" class=\"data row1 col16\" >0.013246</td>\n",
              "      <td id=\"T_84fda_row1_col17\" class=\"data row1 col17\" >0.017860</td>\n",
              "      <td id=\"T_84fda_row1_col18\" class=\"data row1 col18\" >-0.046142</td>\n",
              "    </tr>\n",
              "    <tr>\n",
              "      <th id=\"T_84fda_level0_row2\" class=\"row_heading level0 row2\" >EmpEducationLevel</th>\n",
              "      <td id=\"T_84fda_row2_col0\" class=\"data row2 col0\" >0.207313</td>\n",
              "      <td id=\"T_84fda_row2_col1\" class=\"data row2 col1\" >0.045856</td>\n",
              "      <td id=\"T_84fda_row2_col2\" class=\"data row2 col2\" >1.000000</td>\n",
              "      <td id=\"T_84fda_row2_col3\" class=\"data row2 col3\" >-0.037103</td>\n",
              "      <td id=\"T_84fda_row2_col4\" class=\"data row2 col4\" >0.014095</td>\n",
              "      <td id=\"T_84fda_row2_col5\" class=\"data row2 col5\" >0.027544</td>\n",
              "      <td id=\"T_84fda_row2_col6\" class=\"data row2 col6\" >0.100734</td>\n",
              "      <td id=\"T_84fda_row2_col7\" class=\"data row2 col7\" >0.000357</td>\n",
              "      <td id=\"T_84fda_row2_col8\" class=\"data row2 col8\" >0.128674</td>\n",
              "      <td id=\"T_84fda_row2_col9\" class=\"data row2 col9\" >0.002358</td>\n",
              "      <td id=\"T_84fda_row2_col10\" class=\"data row2 col10\" >-0.016690</td>\n",
              "      <td id=\"T_84fda_row2_col11\" class=\"data row2 col11\" >0.151062</td>\n",
              "      <td id=\"T_84fda_row2_col12\" class=\"data row2 col12\" >-0.013674</td>\n",
              "      <td id=\"T_84fda_row2_col13\" class=\"data row2 col13\" >0.010276</td>\n",
              "      <td id=\"T_84fda_row2_col14\" class=\"data row2 col14\" >0.076332</td>\n",
              "      <td id=\"T_84fda_row2_col15\" class=\"data row2 col15\" >0.066672</td>\n",
              "      <td id=\"T_84fda_row2_col16\" class=\"data row2 col16\" >0.054313</td>\n",
              "      <td id=\"T_84fda_row2_col17\" class=\"data row2 col17\" >0.088988</td>\n",
              "      <td id=\"T_84fda_row2_col18\" class=\"data row2 col18\" >0.020529</td>\n",
              "    </tr>\n",
              "    <tr>\n",
              "      <th id=\"T_84fda_level0_row3\" class=\"row_heading level0 row3\" >EmpEnvironmentSatisfaction</th>\n",
              "      <td id=\"T_84fda_row3_col0\" class=\"data row3 col0\" >0.013814</td>\n",
              "      <td id=\"T_84fda_row3_col1\" class=\"data row3 col1\" >-0.017719</td>\n",
              "      <td id=\"T_84fda_row3_col2\" class=\"data row3 col2\" >-0.037103</td>\n",
              "      <td id=\"T_84fda_row3_col3\" class=\"data row3 col3\" >1.000000</td>\n",
              "      <td id=\"T_84fda_row3_col4\" class=\"data row3 col4\" >-0.049501</td>\n",
              "      <td id=\"T_84fda_row3_col5\" class=\"data row3 col5\" >0.004865</td>\n",
              "      <td id=\"T_84fda_row3_col6\" class=\"data row3 col6\" >-0.008272</td>\n",
              "      <td id=\"T_84fda_row3_col7\" class=\"data row3 col7\" >-0.004319</td>\n",
              "      <td id=\"T_84fda_row3_col8\" class=\"data row3 col8\" >0.017270</td>\n",
              "      <td id=\"T_84fda_row3_col9\" class=\"data row3 col9\" >-0.047271</td>\n",
              "      <td id=\"T_84fda_row3_col10\" class=\"data row3 col10\" >-0.010504</td>\n",
              "      <td id=\"T_84fda_row3_col11\" class=\"data row3 col11\" >-0.012894</td>\n",
              "      <td id=\"T_84fda_row3_col12\" class=\"data row3 col12\" >0.001192</td>\n",
              "      <td id=\"T_84fda_row3_col13\" class=\"data row3 col13\" >-0.000262</td>\n",
              "      <td id=\"T_84fda_row3_col14\" class=\"data row3 col14\" >-0.000561</td>\n",
              "      <td id=\"T_84fda_row3_col15\" class=\"data row3 col15\" >0.025491</td>\n",
              "      <td id=\"T_84fda_row3_col16\" class=\"data row3 col16\" >0.010732</td>\n",
              "      <td id=\"T_84fda_row3_col17\" class=\"data row3 col17\" >-0.011702</td>\n",
              "      <td id=\"T_84fda_row3_col18\" class=\"data row3 col18\" >0.395561</td>\n",
              "    </tr>\n",
              "    <tr>\n",
              "      <th id=\"T_84fda_level0_row4\" class=\"row_heading level0 row4\" >EmpHourlyRate</th>\n",
              "      <td id=\"T_84fda_row4_col0\" class=\"data row4 col0\" >0.062867</td>\n",
              "      <td id=\"T_84fda_row4_col1\" class=\"data row4 col1\" >0.013730</td>\n",
              "      <td id=\"T_84fda_row4_col2\" class=\"data row4 col2\" >0.014095</td>\n",
              "      <td id=\"T_84fda_row4_col3\" class=\"data row4 col3\" >-0.049501</td>\n",
              "      <td id=\"T_84fda_row4_col4\" class=\"data row4 col4\" >1.000000</td>\n",
              "      <td id=\"T_84fda_row4_col5\" class=\"data row4 col5\" >0.054741</td>\n",
              "      <td id=\"T_84fda_row4_col6\" class=\"data row4 col6\" >-0.018606</td>\n",
              "      <td id=\"T_84fda_row4_col7\" class=\"data row4 col7\" >-0.066417</td>\n",
              "      <td id=\"T_84fda_row4_col8\" class=\"data row4 col8\" >0.040484</td>\n",
              "      <td id=\"T_84fda_row4_col9\" class=\"data row4 col9\" >-0.015934</td>\n",
              "      <td id=\"T_84fda_row4_col10\" class=\"data row4 col10\" >0.008783</td>\n",
              "      <td id=\"T_84fda_row4_col11\" class=\"data row4 col11\" >0.026034</td>\n",
              "      <td id=\"T_84fda_row4_col12\" class=\"data row4 col12\" >-0.024160</td>\n",
              "      <td id=\"T_84fda_row4_col13\" class=\"data row4 col13\" >0.016189</td>\n",
              "      <td id=\"T_84fda_row4_col14\" class=\"data row4 col14\" >-0.000399</td>\n",
              "      <td id=\"T_84fda_row4_col15\" class=\"data row4 col15\" >-0.011871</td>\n",
              "      <td id=\"T_84fda_row4_col16\" class=\"data row4 col16\" >-0.010000</td>\n",
              "      <td id=\"T_84fda_row4_col17\" class=\"data row4 col17\" >-0.004576</td>\n",
              "      <td id=\"T_84fda_row4_col18\" class=\"data row4 col18\" >-0.043116</td>\n",
              "    </tr>\n",
              "    <tr>\n",
              "      <th id=\"T_84fda_level0_row5\" class=\"row_heading level0 row5\" >EmpJobInvolvement</th>\n",
              "      <td id=\"T_84fda_row5_col0\" class=\"data row5 col0\" >0.027216</td>\n",
              "      <td id=\"T_84fda_row5_col1\" class=\"data row5 col1\" >0.003231</td>\n",
              "      <td id=\"T_84fda_row5_col2\" class=\"data row5 col2\" >0.027544</td>\n",
              "      <td id=\"T_84fda_row5_col3\" class=\"data row5 col3\" >0.004865</td>\n",
              "      <td id=\"T_84fda_row5_col4\" class=\"data row5 col4\" >0.054741</td>\n",
              "      <td id=\"T_84fda_row5_col5\" class=\"data row5 col5\" >1.000000</td>\n",
              "      <td id=\"T_84fda_row5_col6\" class=\"data row5 col6\" >-0.034349</td>\n",
              "      <td id=\"T_84fda_row5_col7\" class=\"data row5 col7\" >-0.005501</td>\n",
              "      <td id=\"T_84fda_row5_col8\" class=\"data row5 col8\" >0.018211</td>\n",
              "      <td id=\"T_84fda_row5_col9\" class=\"data row5 col9\" >-0.001742</td>\n",
              "      <td id=\"T_84fda_row5_col10\" class=\"data row5 col10\" >0.018037</td>\n",
              "      <td id=\"T_84fda_row5_col11\" class=\"data row5 col11\" >-0.028851</td>\n",
              "      <td id=\"T_84fda_row5_col12\" class=\"data row5 col12\" >-0.025168</td>\n",
              "      <td id=\"T_84fda_row5_col13\" class=\"data row5 col13\" >-0.014129</td>\n",
              "      <td id=\"T_84fda_row5_col14\" class=\"data row5 col14\" >-0.039720</td>\n",
              "      <td id=\"T_84fda_row5_col15\" class=\"data row5 col15\" >0.002910</td>\n",
              "      <td id=\"T_84fda_row5_col16\" class=\"data row5 col16\" >-0.019944</td>\n",
              "      <td id=\"T_84fda_row5_col17\" class=\"data row5 col17\" >0.012924</td>\n",
              "      <td id=\"T_84fda_row5_col18\" class=\"data row5 col18\" >-0.010539</td>\n",
              "    </tr>\n",
              "    <tr>\n",
              "      <th id=\"T_84fda_level0_row6\" class=\"row_heading level0 row6\" >EmpJobLevel</th>\n",
              "      <td id=\"T_84fda_row6_col0\" class=\"data row6 col0\" >0.509139</td>\n",
              "      <td id=\"T_84fda_row6_col1\" class=\"data row6 col1\" >0.017270</td>\n",
              "      <td id=\"T_84fda_row6_col2\" class=\"data row6 col2\" >0.100734</td>\n",
              "      <td id=\"T_84fda_row6_col3\" class=\"data row6 col3\" >-0.008272</td>\n",
              "      <td id=\"T_84fda_row6_col4\" class=\"data row6 col4\" >-0.018606</td>\n",
              "      <td id=\"T_84fda_row6_col5\" class=\"data row6 col5\" >-0.034349</td>\n",
              "      <td id=\"T_84fda_row6_col6\" class=\"data row6 col6\" >1.000000</td>\n",
              "      <td id=\"T_84fda_row6_col7\" class=\"data row6 col7\" >-0.011853</td>\n",
              "      <td id=\"T_84fda_row6_col8\" class=\"data row6 col8\" >0.127477</td>\n",
              "      <td id=\"T_84fda_row6_col9\" class=\"data row6 col9\" >-0.020975</td>\n",
              "      <td id=\"T_84fda_row6_col10\" class=\"data row6 col10\" >0.002992</td>\n",
              "      <td id=\"T_84fda_row6_col11\" class=\"data row6 col11\" >0.784229</td>\n",
              "      <td id=\"T_84fda_row6_col12\" class=\"data row6 col12\" >-0.000389</td>\n",
              "      <td id=\"T_84fda_row6_col13\" class=\"data row6 col13\" >0.049218</td>\n",
              "      <td id=\"T_84fda_row6_col14\" class=\"data row6 col14\" >0.540377</td>\n",
              "      <td id=\"T_84fda_row6_col15\" class=\"data row6 col15\" >0.399235</td>\n",
              "      <td id=\"T_84fda_row6_col16\" class=\"data row6 col16\" >0.360880</td>\n",
              "      <td id=\"T_84fda_row6_col17\" class=\"data row6 col17\" >0.374872</td>\n",
              "      <td id=\"T_84fda_row6_col18\" class=\"data row6 col18\" >-0.076632</td>\n",
              "    </tr>\n",
              "    <tr>\n",
              "      <th id=\"T_84fda_level0_row7\" class=\"row_heading level0 row7\" >EmpJobSatisfaction</th>\n",
              "      <td id=\"T_84fda_row7_col0\" class=\"data row7 col0\" >-0.002436</td>\n",
              "      <td id=\"T_84fda_row7_col1\" class=\"data row7 col1\" >-0.003036</td>\n",
              "      <td id=\"T_84fda_row7_col2\" class=\"data row7 col2\" >0.000357</td>\n",
              "      <td id=\"T_84fda_row7_col3\" class=\"data row7 col3\" >-0.004319</td>\n",
              "      <td id=\"T_84fda_row7_col4\" class=\"data row7 col4\" >-0.066417</td>\n",
              "      <td id=\"T_84fda_row7_col5\" class=\"data row7 col5\" >-0.005501</td>\n",
              "      <td id=\"T_84fda_row7_col6\" class=\"data row7 col6\" >-0.011853</td>\n",
              "      <td id=\"T_84fda_row7_col7\" class=\"data row7 col7\" >1.000000</td>\n",
              "      <td id=\"T_84fda_row7_col8\" class=\"data row7 col8\" >-0.049865</td>\n",
              "      <td id=\"T_84fda_row7_col9\" class=\"data row7 col9\" >0.031847</td>\n",
              "      <td id=\"T_84fda_row7_col10\" class=\"data row7 col10\" >-0.022028</td>\n",
              "      <td id=\"T_84fda_row7_col11\" class=\"data row7 col11\" >-0.026824</td>\n",
              "      <td id=\"T_84fda_row7_col12\" class=\"data row7 col12\" >-0.028031</td>\n",
              "      <td id=\"T_84fda_row7_col13\" class=\"data row7 col13\" >-0.018548</td>\n",
              "      <td id=\"T_84fda_row7_col14\" class=\"data row7 col14\" >0.001807</td>\n",
              "      <td id=\"T_84fda_row7_col15\" class=\"data row7 col15\" >0.002018</td>\n",
              "      <td id=\"T_84fda_row7_col16\" class=\"data row7 col16\" >-0.006508</td>\n",
              "      <td id=\"T_84fda_row7_col17\" class=\"data row7 col17\" >-0.022096</td>\n",
              "      <td id=\"T_84fda_row7_col18\" class=\"data row7 col18\" >0.000606</td>\n",
              "    </tr>\n",
              "    <tr>\n",
              "      <th id=\"T_84fda_level0_row8\" class=\"row_heading level0 row8\" >NumCompaniesWorked</th>\n",
              "      <td id=\"T_84fda_row8_col0\" class=\"data row8 col0\" >0.284408</td>\n",
              "      <td id=\"T_84fda_row8_col1\" class=\"data row8 col1\" >-0.021411</td>\n",
              "      <td id=\"T_84fda_row8_col2\" class=\"data row8 col2\" >0.128674</td>\n",
              "      <td id=\"T_84fda_row8_col3\" class=\"data row8 col3\" >0.017270</td>\n",
              "      <td id=\"T_84fda_row8_col4\" class=\"data row8 col4\" >0.040484</td>\n",
              "      <td id=\"T_84fda_row8_col5\" class=\"data row8 col5\" >0.018211</td>\n",
              "      <td id=\"T_84fda_row8_col6\" class=\"data row8 col6\" >0.127477</td>\n",
              "      <td id=\"T_84fda_row8_col7\" class=\"data row8 col7\" >-0.049865</td>\n",
              "      <td id=\"T_84fda_row8_col8\" class=\"data row8 col8\" >1.000000</td>\n",
              "      <td id=\"T_84fda_row8_col9\" class=\"data row8 col9\" >-0.011788</td>\n",
              "      <td id=\"T_84fda_row8_col10\" class=\"data row8 col10\" >0.057917</td>\n",
              "      <td id=\"T_84fda_row8_col11\" class=\"data row8 col11\" >0.221505</td>\n",
              "      <td id=\"T_84fda_row8_col12\" class=\"data row8 col12\" >-0.050817</td>\n",
              "      <td id=\"T_84fda_row8_col13\" class=\"data row8 col13\" >0.002489</td>\n",
              "      <td id=\"T_84fda_row8_col14\" class=\"data row8 col14\" >-0.129797</td>\n",
              "      <td id=\"T_84fda_row8_col15\" class=\"data row8 col15\" >-0.097271</td>\n",
              "      <td id=\"T_84fda_row8_col16\" class=\"data row8 col16\" >-0.031656</td>\n",
              "      <td id=\"T_84fda_row8_col17\" class=\"data row8 col17\" >-0.109937</td>\n",
              "      <td id=\"T_84fda_row8_col18\" class=\"data row8 col18\" >0.020980</td>\n",
              "    </tr>\n",
              "    <tr>\n",
              "      <th id=\"T_84fda_level0_row9\" class=\"row_heading level0 row9\" >EmpLastSalaryHikePercent</th>\n",
              "      <td id=\"T_84fda_row9_col0\" class=\"data row9 col0\" >-0.006105</td>\n",
              "      <td id=\"T_84fda_row9_col1\" class=\"data row9 col1\" >0.044974</td>\n",
              "      <td id=\"T_84fda_row9_col2\" class=\"data row9 col2\" >0.002358</td>\n",
              "      <td id=\"T_84fda_row9_col3\" class=\"data row9 col3\" >-0.047271</td>\n",
              "      <td id=\"T_84fda_row9_col4\" class=\"data row9 col4\" >-0.015934</td>\n",
              "      <td id=\"T_84fda_row9_col5\" class=\"data row9 col5\" >-0.001742</td>\n",
              "      <td id=\"T_84fda_row9_col6\" class=\"data row9 col6\" >-0.020975</td>\n",
              "      <td id=\"T_84fda_row9_col7\" class=\"data row9 col7\" >0.031847</td>\n",
              "      <td id=\"T_84fda_row9_col8\" class=\"data row9 col8\" >-0.011788</td>\n",
              "      <td id=\"T_84fda_row9_col9\" class=\"data row9 col9\" >1.000000</td>\n",
              "      <td id=\"T_84fda_row9_col10\" class=\"data row9 col10\" >-0.042892</td>\n",
              "      <td id=\"T_84fda_row9_col11\" class=\"data row9 col11\" >-0.005933</td>\n",
              "      <td id=\"T_84fda_row9_col12\" class=\"data row9 col12\" >-0.013439</td>\n",
              "      <td id=\"T_84fda_row9_col13\" class=\"data row9 col13\" >-0.017001</td>\n",
              "      <td id=\"T_84fda_row9_col14\" class=\"data row9 col14\" >-0.019830</td>\n",
              "      <td id=\"T_84fda_row9_col15\" class=\"data row9 col15\" >-0.004957</td>\n",
              "      <td id=\"T_84fda_row9_col16\" class=\"data row9 col16\" >-0.015911</td>\n",
              "      <td id=\"T_84fda_row9_col17\" class=\"data row9 col17\" >-0.007666</td>\n",
              "      <td id=\"T_84fda_row9_col18\" class=\"data row9 col18\" >0.333722</td>\n",
              "    </tr>\n",
              "    <tr>\n",
              "      <th id=\"T_84fda_level0_row10\" class=\"row_heading level0 row10\" >EmpRelationshipSatisfaction</th>\n",
              "      <td id=\"T_84fda_row10_col0\" class=\"data row10 col0\" >0.049749</td>\n",
              "      <td id=\"T_84fda_row10_col1\" class=\"data row10 col1\" >-0.009509</td>\n",
              "      <td id=\"T_84fda_row10_col2\" class=\"data row10 col2\" >-0.016690</td>\n",
              "      <td id=\"T_84fda_row10_col3\" class=\"data row10 col3\" >-0.010504</td>\n",
              "      <td id=\"T_84fda_row10_col4\" class=\"data row10 col4\" >0.008783</td>\n",
              "      <td id=\"T_84fda_row10_col5\" class=\"data row10 col5\" >0.018037</td>\n",
              "      <td id=\"T_84fda_row10_col6\" class=\"data row10 col6\" >0.002992</td>\n",
              "      <td id=\"T_84fda_row10_col7\" class=\"data row10 col7\" >-0.022028</td>\n",
              "      <td id=\"T_84fda_row10_col8\" class=\"data row10 col8\" >0.057917</td>\n",
              "      <td id=\"T_84fda_row10_col9\" class=\"data row10 col9\" >-0.042892</td>\n",
              "      <td id=\"T_84fda_row10_col10\" class=\"data row10 col10\" >1.000000</td>\n",
              "      <td id=\"T_84fda_row10_col11\" class=\"data row10 col11\" >0.018089</td>\n",
              "      <td id=\"T_84fda_row10_col12\" class=\"data row10 col12\" >0.025975</td>\n",
              "      <td id=\"T_84fda_row10_col13\" class=\"data row10 col13\" >-0.004906</td>\n",
              "      <td id=\"T_84fda_row10_col14\" class=\"data row10 col14\" >0.015612</td>\n",
              "      <td id=\"T_84fda_row10_col15\" class=\"data row10 col15\" >-0.032131</td>\n",
              "      <td id=\"T_84fda_row10_col16\" class=\"data row10 col16\" >0.026253</td>\n",
              "      <td id=\"T_84fda_row10_col17\" class=\"data row10 col17\" >-0.006426</td>\n",
              "      <td id=\"T_84fda_row10_col18\" class=\"data row10 col18\" >-0.019502</td>\n",
              "    </tr>\n",
              "    <tr>\n",
              "      <th id=\"T_84fda_level0_row11\" class=\"row_heading level0 row11\" >TotalWorkExperienceInYears</th>\n",
              "      <td id=\"T_84fda_row11_col0\" class=\"data row11 col0\" >0.680886</td>\n",
              "      <td id=\"T_84fda_row11_col1\" class=\"data row11 col1\" >0.027306</td>\n",
              "      <td id=\"T_84fda_row11_col2\" class=\"data row11 col2\" >0.151062</td>\n",
              "      <td id=\"T_84fda_row11_col3\" class=\"data row11 col3\" >-0.012894</td>\n",
              "      <td id=\"T_84fda_row11_col4\" class=\"data row11 col4\" >0.026034</td>\n",
              "      <td id=\"T_84fda_row11_col5\" class=\"data row11 col5\" >-0.028851</td>\n",
              "      <td id=\"T_84fda_row11_col6\" class=\"data row11 col6\" >0.784229</td>\n",
              "      <td id=\"T_84fda_row11_col7\" class=\"data row11 col7\" >-0.026824</td>\n",
              "      <td id=\"T_84fda_row11_col8\" class=\"data row11 col8\" >0.221505</td>\n",
              "      <td id=\"T_84fda_row11_col9\" class=\"data row11 col9\" >-0.005933</td>\n",
              "      <td id=\"T_84fda_row11_col10\" class=\"data row11 col10\" >0.018089</td>\n",
              "      <td id=\"T_84fda_row11_col11\" class=\"data row11 col11\" >1.000000</td>\n",
              "      <td id=\"T_84fda_row11_col12\" class=\"data row11 col12\" >-0.022113</td>\n",
              "      <td id=\"T_84fda_row11_col13\" class=\"data row11 col13\" >0.015495</td>\n",
              "      <td id=\"T_84fda_row11_col14\" class=\"data row11 col14\" >0.633555</td>\n",
              "      <td id=\"T_84fda_row11_col15\" class=\"data row11 col15\" >0.460700</td>\n",
              "      <td id=\"T_84fda_row11_col16\" class=\"data row11 col16\" >0.412781</td>\n",
              "      <td id=\"T_84fda_row11_col17\" class=\"data row11 col17\" >0.460783</td>\n",
              "      <td id=\"T_84fda_row11_col18\" class=\"data row11 col18\" >-0.068141</td>\n",
              "    </tr>\n",
              "    <tr>\n",
              "      <th id=\"T_84fda_level0_row12\" class=\"row_heading level0 row12\" >TrainingTimesLastYear</th>\n",
              "      <td id=\"T_84fda_row12_col0\" class=\"data row12 col0\" >-0.016053</td>\n",
              "      <td id=\"T_84fda_row12_col1\" class=\"data row12 col1\" >-0.032082</td>\n",
              "      <td id=\"T_84fda_row12_col2\" class=\"data row12 col2\" >-0.013674</td>\n",
              "      <td id=\"T_84fda_row12_col3\" class=\"data row12 col3\" >0.001192</td>\n",
              "      <td id=\"T_84fda_row12_col4\" class=\"data row12 col4\" >-0.024160</td>\n",
              "      <td id=\"T_84fda_row12_col5\" class=\"data row12 col5\" >-0.025168</td>\n",
              "      <td id=\"T_84fda_row12_col6\" class=\"data row12 col6\" >-0.000389</td>\n",
              "      <td id=\"T_84fda_row12_col7\" class=\"data row12 col7\" >-0.028031</td>\n",
              "      <td id=\"T_84fda_row12_col8\" class=\"data row12 col8\" >-0.050817</td>\n",
              "      <td id=\"T_84fda_row12_col9\" class=\"data row12 col9\" >-0.013439</td>\n",
              "      <td id=\"T_84fda_row12_col10\" class=\"data row12 col10\" >0.025975</td>\n",
              "      <td id=\"T_84fda_row12_col11\" class=\"data row12 col11\" >-0.022113</td>\n",
              "      <td id=\"T_84fda_row12_col12\" class=\"data row12 col12\" >1.000000</td>\n",
              "      <td id=\"T_84fda_row12_col13\" class=\"data row12 col13\" >0.037048</td>\n",
              "      <td id=\"T_84fda_row12_col14\" class=\"data row12 col14\" >0.008564</td>\n",
              "      <td id=\"T_84fda_row12_col15\" class=\"data row12 col15\" >0.010222</td>\n",
              "      <td id=\"T_84fda_row12_col16\" class=\"data row12 col16\" >0.018831</td>\n",
              "      <td id=\"T_84fda_row12_col17\" class=\"data row12 col17\" >-0.013237</td>\n",
              "      <td id=\"T_84fda_row12_col18\" class=\"data row12 col18\" >-0.005443</td>\n",
              "    </tr>\n",
              "    <tr>\n",
              "      <th id=\"T_84fda_level0_row13\" class=\"row_heading level0 row13\" >EmpWorkLifeBalance</th>\n",
              "      <td id=\"T_84fda_row13_col0\" class=\"data row13 col0\" >-0.019563</td>\n",
              "      <td id=\"T_84fda_row13_col1\" class=\"data row13 col1\" >-0.044788</td>\n",
              "      <td id=\"T_84fda_row13_col2\" class=\"data row13 col2\" >0.010276</td>\n",
              "      <td id=\"T_84fda_row13_col3\" class=\"data row13 col3\" >-0.000262</td>\n",
              "      <td id=\"T_84fda_row13_col4\" class=\"data row13 col4\" >0.016189</td>\n",
              "      <td id=\"T_84fda_row13_col5\" class=\"data row13 col5\" >-0.014129</td>\n",
              "      <td id=\"T_84fda_row13_col6\" class=\"data row13 col6\" >0.049218</td>\n",
              "      <td id=\"T_84fda_row13_col7\" class=\"data row13 col7\" >-0.018548</td>\n",
              "      <td id=\"T_84fda_row13_col8\" class=\"data row13 col8\" >0.002489</td>\n",
              "      <td id=\"T_84fda_row13_col9\" class=\"data row13 col9\" >-0.017001</td>\n",
              "      <td id=\"T_84fda_row13_col10\" class=\"data row13 col10\" >-0.004906</td>\n",
              "      <td id=\"T_84fda_row13_col11\" class=\"data row13 col11\" >0.015495</td>\n",
              "      <td id=\"T_84fda_row13_col12\" class=\"data row13 col12\" >0.037048</td>\n",
              "      <td id=\"T_84fda_row13_col13\" class=\"data row13 col13\" >1.000000</td>\n",
              "      <td id=\"T_84fda_row13_col14\" class=\"data row13 col14\" >0.023479</td>\n",
              "      <td id=\"T_84fda_row13_col15\" class=\"data row13 col15\" >0.045719</td>\n",
              "      <td id=\"T_84fda_row13_col16\" class=\"data row13 col16\" >0.015773</td>\n",
              "      <td id=\"T_84fda_row13_col17\" class=\"data row13 col17\" >0.010518</td>\n",
              "      <td id=\"T_84fda_row13_col18\" class=\"data row13 col18\" >0.124429</td>\n",
              "    </tr>\n",
              "    <tr>\n",
              "      <th id=\"T_84fda_level0_row14\" class=\"row_heading level0 row14\" >ExperienceYearsAtThisCompany</th>\n",
              "      <td id=\"T_84fda_row14_col0\" class=\"data row14 col0\" >0.318852</td>\n",
              "      <td id=\"T_84fda_row14_col1\" class=\"data row14 col1\" >0.021908</td>\n",
              "      <td id=\"T_84fda_row14_col2\" class=\"data row14 col2\" >0.076332</td>\n",
              "      <td id=\"T_84fda_row14_col3\" class=\"data row14 col3\" >-0.000561</td>\n",
              "      <td id=\"T_84fda_row14_col4\" class=\"data row14 col4\" >-0.000399</td>\n",
              "      <td id=\"T_84fda_row14_col5\" class=\"data row14 col5\" >-0.039720</td>\n",
              "      <td id=\"T_84fda_row14_col6\" class=\"data row14 col6\" >0.540377</td>\n",
              "      <td id=\"T_84fda_row14_col7\" class=\"data row14 col7\" >0.001807</td>\n",
              "      <td id=\"T_84fda_row14_col8\" class=\"data row14 col8\" >-0.129797</td>\n",
              "      <td id=\"T_84fda_row14_col9\" class=\"data row14 col9\" >-0.019830</td>\n",
              "      <td id=\"T_84fda_row14_col10\" class=\"data row14 col10\" >0.015612</td>\n",
              "      <td id=\"T_84fda_row14_col11\" class=\"data row14 col11\" >0.633555</td>\n",
              "      <td id=\"T_84fda_row14_col12\" class=\"data row14 col12\" >0.008564</td>\n",
              "      <td id=\"T_84fda_row14_col13\" class=\"data row14 col13\" >0.023479</td>\n",
              "      <td id=\"T_84fda_row14_col14\" class=\"data row14 col14\" >1.000000</td>\n",
              "      <td id=\"T_84fda_row14_col15\" class=\"data row14 col15\" >0.764102</td>\n",
              "      <td id=\"T_84fda_row14_col16\" class=\"data row14 col16\" >0.620230</td>\n",
              "      <td id=\"T_84fda_row14_col17\" class=\"data row14 col17\" >0.759258</td>\n",
              "      <td id=\"T_84fda_row14_col18\" class=\"data row14 col18\" >-0.111645</td>\n",
              "    </tr>\n",
              "    <tr>\n",
              "      <th id=\"T_84fda_level0_row15\" class=\"row_heading level0 row15\" >ExperienceYearsInCurrentRole</th>\n",
              "      <td id=\"T_84fda_row15_col0\" class=\"data row15 col0\" >0.217163</td>\n",
              "      <td id=\"T_84fda_row15_col1\" class=\"data row15 col1\" >0.019898</td>\n",
              "      <td id=\"T_84fda_row15_col2\" class=\"data row15 col2\" >0.066672</td>\n",
              "      <td id=\"T_84fda_row15_col3\" class=\"data row15 col3\" >0.025491</td>\n",
              "      <td id=\"T_84fda_row15_col4\" class=\"data row15 col4\" >-0.011871</td>\n",
              "      <td id=\"T_84fda_row15_col5\" class=\"data row15 col5\" >0.002910</td>\n",
              "      <td id=\"T_84fda_row15_col6\" class=\"data row15 col6\" >0.399235</td>\n",
              "      <td id=\"T_84fda_row15_col7\" class=\"data row15 col7\" >0.002018</td>\n",
              "      <td id=\"T_84fda_row15_col8\" class=\"data row15 col8\" >-0.097271</td>\n",
              "      <td id=\"T_84fda_row15_col9\" class=\"data row15 col9\" >-0.004957</td>\n",
              "      <td id=\"T_84fda_row15_col10\" class=\"data row15 col10\" >-0.032131</td>\n",
              "      <td id=\"T_84fda_row15_col11\" class=\"data row15 col11\" >0.460700</td>\n",
              "      <td id=\"T_84fda_row15_col12\" class=\"data row15 col12\" >0.010222</td>\n",
              "      <td id=\"T_84fda_row15_col13\" class=\"data row15 col13\" >0.045719</td>\n",
              "      <td id=\"T_84fda_row15_col14\" class=\"data row15 col14\" >0.764102</td>\n",
              "      <td id=\"T_84fda_row15_col15\" class=\"data row15 col15\" >1.000000</td>\n",
              "      <td id=\"T_84fda_row15_col16\" class=\"data row15 col16\" >0.540600</td>\n",
              "      <td id=\"T_84fda_row15_col17\" class=\"data row15 col17\" >0.728973</td>\n",
              "      <td id=\"T_84fda_row15_col18\" class=\"data row15 col18\" >-0.147638</td>\n",
              "    </tr>\n",
              "    <tr>\n",
              "      <th id=\"T_84fda_level0_row16\" class=\"row_heading level0 row16\" >YearsSinceLastPromotion</th>\n",
              "      <td id=\"T_84fda_row16_col0\" class=\"data row16 col0\" >0.228199</td>\n",
              "      <td id=\"T_84fda_row16_col1\" class=\"data row16 col1\" >0.013246</td>\n",
              "      <td id=\"T_84fda_row16_col2\" class=\"data row16 col2\" >0.054313</td>\n",
              "      <td id=\"T_84fda_row16_col3\" class=\"data row16 col3\" >0.010732</td>\n",
              "      <td id=\"T_84fda_row16_col4\" class=\"data row16 col4\" >-0.010000</td>\n",
              "      <td id=\"T_84fda_row16_col5\" class=\"data row16 col5\" >-0.019944</td>\n",
              "      <td id=\"T_84fda_row16_col6\" class=\"data row16 col6\" >0.360880</td>\n",
              "      <td id=\"T_84fda_row16_col7\" class=\"data row16 col7\" >-0.006508</td>\n",
              "      <td id=\"T_84fda_row16_col8\" class=\"data row16 col8\" >-0.031656</td>\n",
              "      <td id=\"T_84fda_row16_col9\" class=\"data row16 col9\" >-0.015911</td>\n",
              "      <td id=\"T_84fda_row16_col10\" class=\"data row16 col10\" >0.026253</td>\n",
              "      <td id=\"T_84fda_row16_col11\" class=\"data row16 col11\" >0.412781</td>\n",
              "      <td id=\"T_84fda_row16_col12\" class=\"data row16 col12\" >0.018831</td>\n",
              "      <td id=\"T_84fda_row16_col13\" class=\"data row16 col13\" >0.015773</td>\n",
              "      <td id=\"T_84fda_row16_col14\" class=\"data row16 col14\" >0.620230</td>\n",
              "      <td id=\"T_84fda_row16_col15\" class=\"data row16 col15\" >0.540600</td>\n",
              "      <td id=\"T_84fda_row16_col16\" class=\"data row16 col16\" >1.000000</td>\n",
              "      <td id=\"T_84fda_row16_col17\" class=\"data row16 col17\" >0.491199</td>\n",
              "      <td id=\"T_84fda_row16_col18\" class=\"data row16 col18\" >-0.167629</td>\n",
              "    </tr>\n",
              "    <tr>\n",
              "      <th id=\"T_84fda_level0_row17\" class=\"row_heading level0 row17\" >YearsWithCurrManager</th>\n",
              "      <td id=\"T_84fda_row17_col0\" class=\"data row17 col0\" >0.205098</td>\n",
              "      <td id=\"T_84fda_row17_col1\" class=\"data row17 col1\" >0.017860</td>\n",
              "      <td id=\"T_84fda_row17_col2\" class=\"data row17 col2\" >0.088988</td>\n",
              "      <td id=\"T_84fda_row17_col3\" class=\"data row17 col3\" >-0.011702</td>\n",
              "      <td id=\"T_84fda_row17_col4\" class=\"data row17 col4\" >-0.004576</td>\n",
              "      <td id=\"T_84fda_row17_col5\" class=\"data row17 col5\" >0.012924</td>\n",
              "      <td id=\"T_84fda_row17_col6\" class=\"data row17 col6\" >0.374872</td>\n",
              "      <td id=\"T_84fda_row17_col7\" class=\"data row17 col7\" >-0.022096</td>\n",
              "      <td id=\"T_84fda_row17_col8\" class=\"data row17 col8\" >-0.109937</td>\n",
              "      <td id=\"T_84fda_row17_col9\" class=\"data row17 col9\" >-0.007666</td>\n",
              "      <td id=\"T_84fda_row17_col10\" class=\"data row17 col10\" >-0.006426</td>\n",
              "      <td id=\"T_84fda_row17_col11\" class=\"data row17 col11\" >0.460783</td>\n",
              "      <td id=\"T_84fda_row17_col12\" class=\"data row17 col12\" >-0.013237</td>\n",
              "      <td id=\"T_84fda_row17_col13\" class=\"data row17 col13\" >0.010518</td>\n",
              "      <td id=\"T_84fda_row17_col14\" class=\"data row17 col14\" >0.759258</td>\n",
              "      <td id=\"T_84fda_row17_col15\" class=\"data row17 col15\" >0.728973</td>\n",
              "      <td id=\"T_84fda_row17_col16\" class=\"data row17 col16\" >0.491199</td>\n",
              "      <td id=\"T_84fda_row17_col17\" class=\"data row17 col17\" >1.000000</td>\n",
              "      <td id=\"T_84fda_row17_col18\" class=\"data row17 col18\" >-0.122313</td>\n",
              "    </tr>\n",
              "    <tr>\n",
              "      <th id=\"T_84fda_level0_row18\" class=\"row_heading level0 row18\" >PerformanceRating</th>\n",
              "      <td id=\"T_84fda_row18_col0\" class=\"data row18 col0\" >-0.040164</td>\n",
              "      <td id=\"T_84fda_row18_col1\" class=\"data row18 col1\" >-0.046142</td>\n",
              "      <td id=\"T_84fda_row18_col2\" class=\"data row18 col2\" >0.020529</td>\n",
              "      <td id=\"T_84fda_row18_col3\" class=\"data row18 col3\" >0.395561</td>\n",
              "      <td id=\"T_84fda_row18_col4\" class=\"data row18 col4\" >-0.043116</td>\n",
              "      <td id=\"T_84fda_row18_col5\" class=\"data row18 col5\" >-0.010539</td>\n",
              "      <td id=\"T_84fda_row18_col6\" class=\"data row18 col6\" >-0.076632</td>\n",
              "      <td id=\"T_84fda_row18_col7\" class=\"data row18 col7\" >0.000606</td>\n",
              "      <td id=\"T_84fda_row18_col8\" class=\"data row18 col8\" >0.020980</td>\n",
              "      <td id=\"T_84fda_row18_col9\" class=\"data row18 col9\" >0.333722</td>\n",
              "      <td id=\"T_84fda_row18_col10\" class=\"data row18 col10\" >-0.019502</td>\n",
              "      <td id=\"T_84fda_row18_col11\" class=\"data row18 col11\" >-0.068141</td>\n",
              "      <td id=\"T_84fda_row18_col12\" class=\"data row18 col12\" >-0.005443</td>\n",
              "      <td id=\"T_84fda_row18_col13\" class=\"data row18 col13\" >0.124429</td>\n",
              "      <td id=\"T_84fda_row18_col14\" class=\"data row18 col14\" >-0.111645</td>\n",
              "      <td id=\"T_84fda_row18_col15\" class=\"data row18 col15\" >-0.147638</td>\n",
              "      <td id=\"T_84fda_row18_col16\" class=\"data row18 col16\" >-0.167629</td>\n",
              "      <td id=\"T_84fda_row18_col17\" class=\"data row18 col17\" >-0.122313</td>\n",
              "      <td id=\"T_84fda_row18_col18\" class=\"data row18 col18\" >1.000000</td>\n",
              "    </tr>\n",
              "  </tbody>\n",
              "</table>\n"
            ]
          },
          "metadata": {},
          "execution_count": 17
        }
      ]
    },
    {
      "cell_type": "code",
      "source": [
        "plt.figure(figsize= (20, 10))\n",
        "sns.heatmap(corr, cmap=\"YlGnBu\")"
      ],
      "metadata": {
        "colab": {
          "base_uri": "https://localhost:8080/",
          "height": 722
        },
        "id": "4wAnaSpvsSDF",
        "outputId": "f23b4db4-5c1f-4e15-d7e4-c43ee0669201"
      },
      "execution_count": null,
      "outputs": [
        {
          "output_type": "execute_result",
          "data": {
            "text/plain": [
              "<matplotlib.axes._subplots.AxesSubplot at 0x7fe3f00e8110>"
            ]
          },
          "metadata": {},
          "execution_count": 18
        },
        {
          "output_type": "display_data",
          "data": {
            "text/plain": [
              "<Figure size 1440x720 with 2 Axes>"
            ],
            "image/png": "[encoded data removed]"
          },
          "metadata": {
            "needs_background": "light"
          }
        }
      ]
    },
    {
      "cell_type": "markdown",
      "source": [
        "From the above heatmap we notice that,\n",
        "- age is slightly correlated with the education level of the employee.\n",
        "- most of the promotions work on basis of number of years of experience which would most probable be greater for employees with high age, thus making the job level dependent on the age, number of years of experience.\n",
        "- there are slight chances that under long years a people tend to change companies, thus increasing the probability of having worked in more comapanies.\n",
        "- the persons who are at a higher job level will in general have more years of experience. \n",
        "- ExperienceYearsAtThisCompany, ExperienceYearsInCurrentRole, YearsWithCurrManager are slightly dependent on the number of companies the person worked.\n",
        "- that the parameters ExperienceYearsAtThisCompany, ExperienceYearsInCurrentRole, YearsSinceLastPromotion, YearsWithCurrManager are all interdependent and also performance rating\n",
        "- a person who is more satisfied with the environment they are working show a better performance.\n",
        "- a person who is performs well is in general the one who gaines a hike.\n",
        "- DistanceFromHome, EmpHourlyRate, EmpJobInvolvement, EmpJobSatisfaction, EmpRelationshipSatisfaction, TrainingTimesLastYear, EmpWorkLifeBalance are not much dependent on any of the other features."
      ],
      "metadata": {
        "id": "6JM1KV_ktymk"
      }
    },
    {
      "cell_type": "markdown",
      "source": [
        "##CrammersV\n",
        "It measures how strongly two categorical fields are associated with each other."
      ],
      "metadata": {
        "id": "obg03ZrKa-4D"
      }
    },
    {
      "cell_type": "code",
      "source": [
        "cat_var = df.select_dtypes(include=['object']).copy()\n",
        "cat_var.head()"
      ],
      "metadata": {
        "id": "LfWds7TIqUnW",
        "colab": {
          "base_uri": "https://localhost:8080/",
          "height": 206
        },
        "outputId": "7e09079c-99b8-4b86-9c08-9e2c524163f7"
      },
      "execution_count": null,
      "outputs": [
        {
          "output_type": "execute_result",
          "data": {
            "text/plain": [
              "  Gender EducationBackground MaritalStatus    EmpDepartment       EmpJobRole  \\\n",
              "0   Male           Marketing        Single            Sales  Sales Executive   \n",
              "1   Male           Marketing        Single            Sales  Sales Executive   \n",
              "2   Male       Life Sciences       Married            Sales  Sales Executive   \n",
              "3   Male     Human Resources      Divorced  Human Resources          Manager   \n",
              "4   Male           Marketing        Single            Sales  Sales Executive   \n",
              "\n",
              "  BusinessTravelFrequency OverTime Attrition  \n",
              "0           Travel_Rarely       No        No  \n",
              "1           Travel_Rarely       No        No  \n",
              "2       Travel_Frequently      Yes        No  \n",
              "3           Travel_Rarely       No        No  \n",
              "4           Travel_Rarely       No        No  "
            ],
            "text/html": [
              "\n",
              "  <div id=\"df-4d7cd7da-c224-49c9-99ae-f971d58402f6\">\n",
              "    <div class=\"colab-df-container\">\n",
              "      <div>\n",
              "<style scoped>\n",
              "    .dataframe tbody tr th:only-of-type {\n",
              "        vertical-align: middle;\n",
              "    }\n",
              "\n",
              "    .dataframe tbody tr th {\n",
              "        vertical-align: top;\n",
              "    }\n",
              "\n",
              "    .dataframe thead th {\n",
              "        text-align: right;\n",
              "    }\n",
              "</style>\n",
              "<table border=\"1\" class=\"dataframe\">\n",
              "  <thead>\n",
              "    <tr style=\"text-align: right;\">\n",
              "      <th></th>\n",
              "      <th>Gender</th>\n",
              "      <th>EducationBackground</th>\n",
              "      <th>MaritalStatus</th>\n",
              "      <th>EmpDepartment</th>\n",
              "      <th>EmpJobRole</th>\n",
              "      <th>BusinessTravelFrequency</th>\n",
              "      <th>OverTime</th>\n",
              "      <th>Attrition</th>\n",
              "    </tr>\n",
              "  </thead>\n",
              "  <tbody>\n",
              "    <tr>\n",
              "      <th>0</th>\n",
              "      <td>Male</td>\n",
              "      <td>Marketing</td>\n",
              "      <td>Single</td>\n",
              "      <td>Sales</td>\n",
              "      <td>Sales Executive</td>\n",
              "      <td>Travel_Rarely</td>\n",
              "      <td>No</td>\n",
              "      <td>No</td>\n",
              "    </tr>\n",
              "    <tr>\n",
              "      <th>1</th>\n",
              "      <td>Male</td>\n",
              "      <td>Marketing</td>\n",
              "      <td>Single</td>\n",
              "      <td>Sales</td>\n",
              "      <td>Sales Executive</td>\n",
              "      <td>Travel_Rarely</td>\n",
              "      <td>No</td>\n",
              "      <td>No</td>\n",
              "    </tr>\n",
              "    <tr>\n",
              "      <th>2</th>\n",
              "      <td>Male</td>\n",
              "      <td>Life Sciences</td>\n",
              "      <td>Married</td>\n",
              "      <td>Sales</td>\n",
              "      <td>Sales Executive</td>\n",
              "      <td>Travel_Frequently</td>\n",
              "      <td>Yes</td>\n",
              "      <td>No</td>\n",
              "    </tr>\n",
              "    <tr>\n",
              "      <th>3</th>\n",
              "      <td>Male</td>\n",
              "      <td>Human Resources</td>\n",
              "      <td>Divorced</td>\n",
              "      <td>Human Resources</td>\n",
              "      <td>Manager</td>\n",
              "      <td>Travel_Rarely</td>\n",
              "      <td>No</td>\n",
              "      <td>No</td>\n",
              "    </tr>\n",
              "    <tr>\n",
              "      <th>4</th>\n",
              "      <td>Male</td>\n",
              "      <td>Marketing</td>\n",
              "      <td>Single</td>\n",
              "      <td>Sales</td>\n",
              "      <td>Sales Executive</td>\n",
              "      <td>Travel_Rarely</td>\n",
              "      <td>No</td>\n",
              "      <td>No</td>\n",
              "    </tr>\n",
              "  </tbody>\n",
              "</table>\n",
              "</div>\n",
              "      <button class=\"colab-df-convert\" onclick=\"convertToInteractive('df-4d7cd7da-c224-49c9-99ae-f971d58402f6')\"\n",
              "              title=\"Convert this dataframe to an interactive table.\"\n",
              "              style=\"display:none;\">\n",
              "        \n",
              "  <svg xmlns=\"http://www.w3.org/2000/svg\" height=\"24px\"viewBox=\"0 0 24 24\"\n",
              "       width=\"24px\">\n",
              "    <path d=\"M0 0h24v24H0V0z\" fill=\"none\"/>\n",
              "    <path d=\"M18.56 5.44l.94 2.06.94-2.06 2.06-.94-2.06-.94-.94-2.06-.94 2.06-2.06.94zm-11 1L8.5 8.5l.94-2.06 2.06-.94-2.06-.94L8.5 2.5l-.94 2.06-2.06.94zm10 10l.94 2.06.94-2.06 2.06-.94-2.06-.94-.94-2.06-.94 2.06-2.06.94z\"/><path d=\"M17.41 7.96l-1.37-1.37c-.4-.4-.92-.59-1.43-.59-.52 0-1.04.2-1.43.59L10.3 9.45l-7.72 7.72c-.78.78-.78 2.05 0 2.83L4 21.41c.39.39.9.59 1.41.59.51 0 1.02-.2 1.41-.59l7.78-7.78 2.81-2.81c.8-.78.8-2.07 0-2.86zM5.41 20L4 18.59l7.72-7.72 1.47 1.35L5.41 20z\"/>\n",
              "  </svg>\n",
              "      </button>\n",
              "      \n",
              "  <style>\n",
              "    .colab-df-container {\n",
              "      display:flex;\n",
              "      flex-wrap:wrap;\n",
              "      gap: 12px;\n",
              "    }\n",
              "\n",
              "    .colab-df-convert {\n",
              "      background-color: #E8F0FE;\n",
              "      border: none;\n",
              "      border-radius: 50%;\n",
              "      cursor: pointer;\n",
              "      display: none;\n",
              "      fill: #1967D2;\n",
              "      height: 32px;\n",
              "      padding: 0 0 0 0;\n",
              "      width: 32px;\n",
              "    }\n",
              "\n",
              "    .colab-df-convert:hover {\n",
              "      background-color: #E2EBFA;\n",
              "      box-shadow: 0px 1px 2px rgba(60, 64, 67, 0.3), 0px 1px 3px 1px rgba(60, 64, 67, 0.15);\n",
              "      fill: #174EA6;\n",
              "    }\n",
              "\n",
              "    [theme=dark] .colab-df-convert {\n",
              "      background-color: #3B4455;\n",
              "      fill: #D2E3FC;\n",
              "    }\n",
              "\n",
              "    [theme=dark] .colab-df-convert:hover {\n",
              "      background-color: #434B5C;\n",
              "      box-shadow: 0px 1px 3px 1px rgba(0, 0, 0, 0.15);\n",
              "      filter: drop-shadow(0px 1px 2px rgba(0, 0, 0, 0.3));\n",
              "      fill: #FFFFFF;\n",
              "    }\n",
              "  </style>\n",
              "\n",
              "      <script>\n",
              "        const buttonEl =\n",
              "          document.querySelector('#df-4d7cd7da-c224-49c9-99ae-f971d58402f6 button.colab-df-convert');\n",
              "        buttonEl.style.display =\n",
              "          google.colab.kernel.accessAllowed ? 'block' : 'none';\n",
              "\n",
              "        async function convertToInteractive(key) {\n",
              "          const element = document.querySelector('#df-4d7cd7da-c224-49c9-99ae-f971d58402f6');\n",
              "          const dataTable =\n",
              "            await google.colab.kernel.invokeFunction('convertToInteractive',\n",
              "                                                     [key], {});\n",
              "          if (!dataTable) return;\n",
              "\n",
              "          const docLinkHtml = 'Like what you see? Visit the ' +\n",
              "            '<a target=\"_blank\" href=https://colab.research.google.com/notebooks/data_table.ipynb>data table notebook</a>'\n",
              "            + ' to learn more about interactive tables.';\n",
              "          element.innerHTML = '';\n",
              "          dataTable['output_type'] = 'display_data';\n",
              "          await google.colab.output.renderOutput(dataTable, element);\n",
              "          const docLink = document.createElement('div');\n",
              "          docLink.innerHTML = docLinkHtml;\n",
              "          element.appendChild(docLink);\n",
              "        }\n",
              "      </script>\n",
              "    </div>\n",
              "  </div>\n",
              "  "
            ]
          },
          "metadata": {},
          "execution_count": 19
        }
      ]
    },
    {
      "cell_type": "code",
      "source": [
        "for i in cat_var.columns:\n",
        "    cat_var[i] = cat_var[i].astype('category')\n",
        "cramersV = am.CramersV(cat_var)\n",
        "crammersV_corr = cramersV.fit()\n",
        "crammersV_corr.style.background_gradient(cmap= 'crest')"
      ],
      "metadata": {
        "colab": {
          "base_uri": "https://localhost:8080/",
          "height": 300
        },
        "id": "5Ae1XLKlrOLd",
        "outputId": "7db8975c-58bd-43d8-b642-cedd5e49090a"
      },
      "execution_count": null,
      "outputs": [
        {
          "output_type": "execute_result",
          "data": {
            "text/plain": [
              "<pandas.io.formats.style.Styler at 0x7fe3ececed50>"
            ],
            "text/html": [
              "<style type=\"text/css\">\n",
              "#T_49df6_row0_col0, #T_49df6_row1_col1, #T_49df6_row2_col2, #T_49df6_row3_col3, #T_49df6_row4_col4, #T_49df6_row5_col5, #T_49df6_row6_col6, #T_49df6_row7_col7 {\n",
              "  background-color: #2c3172;\n",
              "  color: #f1f1f1;\n",
              "}\n",
              "#T_49df6_row0_col1, #T_49df6_row0_col5, #T_49df6_row0_col6, #T_49df6_row5_col3 {\n",
              "  background-color: #a3cc91;\n",
              "  color: #000000;\n",
              "}\n",
              "#T_49df6_row0_col2, #T_49df6_row2_col1, #T_49df6_row6_col3 {\n",
              "  background-color: #a2cb91;\n",
              "  color: #000000;\n",
              "}\n",
              "#T_49df6_row0_col3, #T_49df6_row0_col7, #T_49df6_row1_col5, #T_49df6_row2_col4, #T_49df6_row2_col6, #T_49df6_row5_col4, #T_49df6_row6_col0, #T_49df6_row6_col1, #T_49df6_row6_col2, #T_49df6_row7_col0 {\n",
              "  background-color: #a5cd90;\n",
              "  color: #000000;\n",
              "}\n",
              "#T_49df6_row0_col4, #T_49df6_row3_col2 {\n",
              "  background-color: #98c691;\n",
              "  color: #000000;\n",
              "}\n",
              "#T_49df6_row1_col0, #T_49df6_row1_col6, #T_49df6_row2_col5, #T_49df6_row3_col5, #T_49df6_row6_col5 {\n",
              "  background-color: #a0cb91;\n",
              "  color: #000000;\n",
              "}\n",
              "#T_49df6_row1_col2 {\n",
              "  background-color: #9dc991;\n",
              "  color: #000000;\n",
              "}\n",
              "#T_49df6_row1_col3 {\n",
              "  background-color: #509f90;\n",
              "  color: #f1f1f1;\n",
              "}\n",
              "#T_49df6_row1_col4 {\n",
              "  background-color: #5da890;\n",
              "  color: #f1f1f1;\n",
              "}\n",
              "#T_49df6_row1_col7, #T_49df6_row7_col5 {\n",
              "  background-color: #8dc191;\n",
              "  color: #000000;\n",
              "}\n",
              "#T_49df6_row2_col0, #T_49df6_row5_col1 {\n",
              "  background-color: #a4cc90;\n",
              "  color: #000000;\n",
              "}\n",
              "#T_49df6_row2_col3, #T_49df6_row3_col0, #T_49df6_row5_col0 {\n",
              "  background-color: #9fca91;\n",
              "  color: #000000;\n",
              "}\n",
              "#T_49df6_row2_col7 {\n",
              "  background-color: #79b891;\n",
              "  color: #f1f1f1;\n",
              "}\n",
              "#T_49df6_row3_col1 {\n",
              "  background-color: #4f9e90;\n",
              "  color: #f1f1f1;\n",
              "}\n",
              "#T_49df6_row3_col4, #T_49df6_row4_col3 {\n",
              "  background-color: #2c3573;\n",
              "  color: #f1f1f1;\n",
              "}\n",
              "#T_49df6_row3_col6 {\n",
              "  background-color: #99c791;\n",
              "  color: #000000;\n",
              "}\n",
              "#T_49df6_row3_col7 {\n",
              "  background-color: #96c691;\n",
              "  color: #000000;\n",
              "}\n",
              "#T_49df6_row4_col0 {\n",
              "  background-color: #80bb91;\n",
              "  color: #000000;\n",
              "}\n",
              "#T_49df6_row4_col1 {\n",
              "  background-color: #519f90;\n",
              "  color: #f1f1f1;\n",
              "}\n",
              "#T_49df6_row4_col2, #T_49df6_row7_col4 {\n",
              "  background-color: #8ac091;\n",
              "  color: #000000;\n",
              "}\n",
              "#T_49df6_row4_col5 {\n",
              "  background-color: #90c391;\n",
              "  color: #000000;\n",
              "}\n",
              "#T_49df6_row4_col6 {\n",
              "  background-color: #85bd91;\n",
              "  color: #000000;\n",
              "}\n",
              "#T_49df6_row4_col7 {\n",
              "  background-color: #74b690;\n",
              "  color: #f1f1f1;\n",
              "}\n",
              "#T_49df6_row5_col2, #T_49df6_row5_col6 {\n",
              "  background-color: #9bc891;\n",
              "  color: #000000;\n",
              "}\n",
              "#T_49df6_row5_col7 {\n",
              "  background-color: #89bf91;\n",
              "  color: #000000;\n",
              "}\n",
              "#T_49df6_row6_col4 {\n",
              "  background-color: #9eca91;\n",
              "  color: #000000;\n",
              "}\n",
              "#T_49df6_row6_col7 {\n",
              "  background-color: #6eb290;\n",
              "  color: #f1f1f1;\n",
              "}\n",
              "#T_49df6_row7_col1 {\n",
              "  background-color: #8fc291;\n",
              "  color: #000000;\n",
              "}\n",
              "#T_49df6_row7_col2 {\n",
              "  background-color: #77b791;\n",
              "  color: #f1f1f1;\n",
              "}\n",
              "#T_49df6_row7_col3 {\n",
              "  background-color: #9cc891;\n",
              "  color: #000000;\n",
              "}\n",
              "#T_49df6_row7_col6 {\n",
              "  background-color: #6db290;\n",
              "  color: #f1f1f1;\n",
              "}\n",
              "</style>\n",
              "<table id=\"T_49df6_\" class=\"dataframe\">\n",
              "  <thead>\n",
              "    <tr>\n",
              "      <th class=\"blank level0\" >&nbsp;</th>\n",
              "      <th class=\"col_heading level0 col0\" >Gender</th>\n",
              "      <th class=\"col_heading level0 col1\" >EducationBackground</th>\n",
              "      <th class=\"col_heading level0 col2\" >MaritalStatus</th>\n",
              "      <th class=\"col_heading level0 col3\" >EmpDepartment</th>\n",
              "      <th class=\"col_heading level0 col4\" >EmpJobRole</th>\n",
              "      <th class=\"col_heading level0 col5\" >BusinessTravelFrequency</th>\n",
              "      <th class=\"col_heading level0 col6\" >OverTime</th>\n",
              "      <th class=\"col_heading level0 col7\" >Attrition</th>\n",
              "    </tr>\n",
              "  </thead>\n",
              "  <tbody>\n",
              "    <tr>\n",
              "      <th id=\"T_49df6_level0_row0\" class=\"row_heading level0 row0\" >Gender</th>\n",
              "      <td id=\"T_49df6_row0_col0\" class=\"data row0 col0\" >1.000000</td>\n",
              "      <td id=\"T_49df6_row0_col1\" class=\"data row0 col1\" >0.051094</td>\n",
              "      <td id=\"T_49df6_row0_col2\" class=\"data row0 col2\" >0.042194</td>\n",
              "      <td id=\"T_49df6_row0_col3\" class=\"data row0 col3\" >0.054859</td>\n",
              "      <td id=\"T_49df6_row0_col4\" class=\"data row0 col4\" >0.160838</td>\n",
              "      <td id=\"T_49df6_row0_col5\" class=\"data row0 col5\" >0.055999</td>\n",
              "      <td id=\"T_49df6_row0_col6\" class=\"data row0 col6\" >0.038410</td>\n",
              "      <td id=\"T_49df6_row0_col7\" class=\"data row0 col7\" >0.035758</td>\n",
              "    </tr>\n",
              "    <tr>\n",
              "      <th id=\"T_49df6_level0_row1\" class=\"row_heading level0 row1\" >EducationBackground</th>\n",
              "      <td id=\"T_49df6_row1_col0\" class=\"data row1 col0\" >0.051094</td>\n",
              "      <td id=\"T_49df6_row1_col1\" class=\"data row1 col1\" >1.000000</td>\n",
              "      <td id=\"T_49df6_row1_col2\" class=\"data row1 col2\" >0.055007</td>\n",
              "      <td id=\"T_49df6_row1_col3\" class=\"data row1 col3\" >0.366388</td>\n",
              "      <td id=\"T_49df6_row1_col4\" class=\"data row1 col4\" >0.354192</td>\n",
              "      <td id=\"T_49df6_row1_col5\" class=\"data row1 col5\" >0.046986</td>\n",
              "      <td id=\"T_49df6_row1_col6\" class=\"data row1 col6\" >0.042803</td>\n",
              "      <td id=\"T_49df6_row1_col7\" class=\"data row1 col7\" >0.120830</td>\n",
              "    </tr>\n",
              "    <tr>\n",
              "      <th id=\"T_49df6_level0_row2\" class=\"row_heading level0 row2\" >MaritalStatus</th>\n",
              "      <td id=\"T_49df6_row2_col0\" class=\"data row2 col0\" >0.042194</td>\n",
              "      <td id=\"T_49df6_row2_col1\" class=\"data row2 col1\" >0.055007</td>\n",
              "      <td id=\"T_49df6_row2_col2\" class=\"data row2 col2\" >1.000000</td>\n",
              "      <td id=\"T_49df6_row2_col3\" class=\"data row2 col3\" >0.075640</td>\n",
              "      <td id=\"T_49df6_row2_col4\" class=\"data row2 col4\" >0.120965</td>\n",
              "      <td id=\"T_49df6_row2_col5\" class=\"data row2 col5\" >0.063844</td>\n",
              "      <td id=\"T_49df6_row2_col6\" class=\"data row2 col6\" >0.027122</td>\n",
              "      <td id=\"T_49df6_row2_col7\" class=\"data row2 col7\" >0.186417</td>\n",
              "    </tr>\n",
              "    <tr>\n",
              "      <th id=\"T_49df6_level0_row3\" class=\"row_heading level0 row3\" >EmpDepartment</th>\n",
              "      <td id=\"T_49df6_row3_col0\" class=\"data row3 col0\" >0.054859</td>\n",
              "      <td id=\"T_49df6_row3_col1\" class=\"data row3 col1\" >0.366388</td>\n",
              "      <td id=\"T_49df6_row3_col2\" class=\"data row3 col2\" >0.075640</td>\n",
              "      <td id=\"T_49df6_row3_col3\" class=\"data row3 col3\" >1.000000</td>\n",
              "      <td id=\"T_49df6_row3_col4\" class=\"data row3 col4\" >0.981091</td>\n",
              "      <td id=\"T_49df6_row3_col5\" class=\"data row3 col5\" >0.063538</td>\n",
              "      <td id=\"T_49df6_row3_col6\" class=\"data row3 col6\" >0.069582</td>\n",
              "      <td id=\"T_49df6_row3_col7\" class=\"data row3 col7\" >0.087156</td>\n",
              "    </tr>\n",
              "    <tr>\n",
              "      <th id=\"T_49df6_level0_row4\" class=\"row_heading level0 row4\" >EmpJobRole</th>\n",
              "      <td id=\"T_49df6_row4_col0\" class=\"data row4 col0\" >0.160838</td>\n",
              "      <td id=\"T_49df6_row4_col1\" class=\"data row4 col1\" >0.354192</td>\n",
              "      <td id=\"T_49df6_row4_col2\" class=\"data row4 col2\" >0.120965</td>\n",
              "      <td id=\"T_49df6_row4_col3\" class=\"data row4 col3\" >0.981091</td>\n",
              "      <td id=\"T_49df6_row4_col4\" class=\"data row4 col4\" >1.000000</td>\n",
              "      <td id=\"T_49df6_row4_col5\" class=\"data row4 col5\" >0.119293</td>\n",
              "      <td id=\"T_49df6_row4_col6\" class=\"data row4 col6\" >0.140877</td>\n",
              "      <td id=\"T_49df6_row4_col7\" class=\"data row4 col7\" >0.204155</td>\n",
              "    </tr>\n",
              "    <tr>\n",
              "      <th id=\"T_49df6_level0_row5\" class=\"row_heading level0 row5\" >BusinessTravelFrequency</th>\n",
              "      <td id=\"T_49df6_row5_col0\" class=\"data row5 col0\" >0.055999</td>\n",
              "      <td id=\"T_49df6_row5_col1\" class=\"data row5 col1\" >0.046986</td>\n",
              "      <td id=\"T_49df6_row5_col2\" class=\"data row5 col2\" >0.063844</td>\n",
              "      <td id=\"T_49df6_row5_col3\" class=\"data row5 col3\" >0.063538</td>\n",
              "      <td id=\"T_49df6_row5_col4\" class=\"data row5 col4\" >0.119293</td>\n",
              "      <td id=\"T_49df6_row5_col5\" class=\"data row5 col5\" >1.000000</td>\n",
              "      <td id=\"T_49df6_row5_col6\" class=\"data row5 col6\" >0.063484</td>\n",
              "      <td id=\"T_49df6_row5_col7\" class=\"data row5 col7\" >0.130237</td>\n",
              "    </tr>\n",
              "    <tr>\n",
              "      <th id=\"T_49df6_level0_row6\" class=\"row_heading level0 row6\" >OverTime</th>\n",
              "      <td id=\"T_49df6_row6_col0\" class=\"data row6 col0\" >0.038410</td>\n",
              "      <td id=\"T_49df6_row6_col1\" class=\"data row6 col1\" >0.042803</td>\n",
              "      <td id=\"T_49df6_row6_col2\" class=\"data row6 col2\" >0.027122</td>\n",
              "      <td id=\"T_49df6_row6_col3\" class=\"data row6 col3\" >0.069582</td>\n",
              "      <td id=\"T_49df6_row6_col4\" class=\"data row6 col4\" >0.140877</td>\n",
              "      <td id=\"T_49df6_row6_col5\" class=\"data row6 col5\" >0.063484</td>\n",
              "      <td id=\"T_49df6_row6_col6\" class=\"data row6 col6\" >1.000000</td>\n",
              "      <td id=\"T_49df6_row6_col7\" class=\"data row6 col7\" >0.224535</td>\n",
              "    </tr>\n",
              "    <tr>\n",
              "      <th id=\"T_49df6_level0_row7\" class=\"row_heading level0 row7\" >Attrition</th>\n",
              "      <td id=\"T_49df6_row7_col0\" class=\"data row7 col0\" >0.035758</td>\n",
              "      <td id=\"T_49df6_row7_col1\" class=\"data row7 col1\" >0.120830</td>\n",
              "      <td id=\"T_49df6_row7_col2\" class=\"data row7 col2\" >0.186417</td>\n",
              "      <td id=\"T_49df6_row7_col3\" class=\"data row7 col3\" >0.087156</td>\n",
              "      <td id=\"T_49df6_row7_col4\" class=\"data row7 col4\" >0.204155</td>\n",
              "      <td id=\"T_49df6_row7_col5\" class=\"data row7 col5\" >0.130237</td>\n",
              "      <td id=\"T_49df6_row7_col6\" class=\"data row7 col6\" >0.224535</td>\n",
              "      <td id=\"T_49df6_row7_col7\" class=\"data row7 col7\" >1.000000</td>\n",
              "    </tr>\n",
              "  </tbody>\n",
              "</table>\n"
            ]
          },
          "metadata": {},
          "execution_count": 20
        }
      ]
    },
    {
      "cell_type": "code",
      "source": [
        "plt.figure(figsize= (12, 6))\n",
        "sns.heatmap(crammersV_corr, cmap=\"crest\")"
      ],
      "metadata": {
        "colab": {
          "base_uri": "https://localhost:8080/",
          "height": 511
        },
        "id": "ZNzqEvdIrSuI",
        "outputId": "b5c1719c-bf43-46b3-e306-9ffd3485152e"
      },
      "execution_count": null,
      "outputs": [
        {
          "output_type": "execute_result",
          "data": {
            "text/plain": [
              "<matplotlib.axes._subplots.AxesSubplot at 0x7fe3ecee49d0>"
            ]
          },
          "metadata": {},
          "execution_count": 21
        },
        {
          "output_type": "display_data",
          "data": {
            "text/plain": [
              "<Figure size 864x432 with 2 Axes>"
            ],
            "image/png": "[encoded data removed]"
          },
          "metadata": {
            "needs_background": "light"
          }
        }
      ]
    },
    {
      "cell_type": "markdown",
      "source": [
        "From the above heatmap we notice that,\n",
        "\n",
        "\n",
        "*  Educational backgrond influences the department and role in which a person works. \n",
        "*   Job role is highly corellated to the department they work. Most of the jobs are department specific.\n",
        "\n",
        "*   Attrition depends on the job role and the amount of overtime a person does. It is also slightly dependent on marital status, business travel frequency and educational background.\n",
        "\n",
        "\n",
        "\n"
      ],
      "metadata": {
        "id": "NkD3glyscaAy"
      }
    },
    {
      "cell_type": "markdown",
      "source": [
        "##Anova"
      ],
      "metadata": {
        "id": "TtnI6yBgbWlY"
      }
    },
    {
      "cell_type": "code",
      "source": [
        "num_var = []\n",
        "for i in df.columns:\n",
        "    if i not in cat_var:\n",
        "        num_var.append(i)"
      ],
      "metadata": {
        "id": "iW9BWbLCrXYr"
      },
      "execution_count": null,
      "outputs": []
    },
    {
      "cell_type": "code",
      "source": [
        "for i in num_var:\n",
        "    yes = df[df['Attrition']=='Yes'][i]\n",
        "    no = df[df['Attrition']=='No'][i]\n",
        "    F, p = ss.f_oneway(yes, no)\n",
        "    print(\"{: <30} {: .4f}\".format(i, p))"
      ],
      "metadata": {
        "colab": {
          "base_uri": "https://localhost:8080/"
        },
        "id": "l78VeKSsrem7",
        "outputId": "db74e911-b490-48b3-f7b4-a5dfe17cb4d3"
      },
      "execution_count": null,
      "outputs": [
        {
          "output_type": "stream",
          "name": "stdout",
          "text": [
            "Age                             0.0000\n",
            "DistanceFromHome                0.0285\n",
            "EmpEducationLevel               0.0890\n",
            "EmpEnvironmentSatisfaction      0.0000\n",
            "EmpHourlyRate                   0.3624\n",
            "EmpJobInvolvement               0.0000\n",
            "EmpJobLevel                     0.0000\n",
            "EmpJobSatisfaction              0.0046\n",
            "NumCompaniesWorked              0.1925\n",
            "EmpLastSalaryHikePercent        0.7437\n",
            "EmpRelationshipSatisfaction     0.1981\n",
            "TotalWorkExperienceInYears      0.0000\n",
            "TrainingTimesLastYear           0.2251\n",
            "EmpWorkLifeBalance              0.0174\n",
            "ExperienceYearsAtThisCompany    0.0000\n",
            "ExperienceYearsInCurrentRole    0.0000\n",
            "YearsSinceLastPromotion         0.0476\n",
            "YearsWithCurrManager            0.0000\n",
            "PerformanceRating               0.1683\n"
          ]
        }
      ]
    },
    {
      "cell_type": "markdown",
      "source": [
        "Age, DistanceFromHome, EmpEnvironmentSatisfaction, EmpJobInvolvement, EmpJobLevel, EmpJobSatisfaction, TotalWorkExperienceInYears, EmpWorkLifeBalance, ExperienceYearsAtThisCompany, ExperienceYearsInCurrentRole, YearsSinceLastPromotion, YearsWithCurrManager have p value less than 0.05."
      ],
      "metadata": {
        "id": "GkPfhVZAqnuq"
      }
    },
    {
      "cell_type": "code",
      "source": [
        "for i in cat_var:\n",
        "  CategoryGroupLists=df.groupby(i)['PerformanceRating'].apply(list)\n",
        "  f, p = ss.f_oneway(*CategoryGroupLists)\n",
        "  print(\"{: <30} {: .4f}\".format(i, p))"
      ],
      "metadata": {
        "colab": {
          "base_uri": "https://localhost:8080/"
        },
        "id": "QCEbHkNHNLOx",
        "outputId": "d0691510-4d74-47d1-9624-1f85b5c81fd7"
      },
      "execution_count": null,
      "outputs": [
        {
          "output_type": "stream",
          "name": "stdout",
          "text": [
            "Gender                          0.9509\n",
            "EducationBackground             0.4088\n",
            "MaritalStatus                   0.1457\n",
            "EmpDepartment                   0.0000\n",
            "EmpJobRole                      0.0001\n",
            "BusinessTravelFrequency         0.5250\n",
            "OverTime                        0.0821\n",
            "Attrition                       0.1683\n"
          ]
        }
      ]
    },
    {
      "cell_type": "markdown",
      "source": [
        "EmpDepartment, EmpJobRole have p value less than 0.05."
      ],
      "metadata": {
        "id": "eaJV5xHrXB-a"
      }
    },
    {
      "cell_type": "markdown",
      "source": [
        "##EDA for Attiration"
      ],
      "metadata": {
        "id": "umAGk0ue7zni"
      }
    },
    {
      "cell_type": "code",
      "source": [
        "def barPerc(df,xVar,ax):\n",
        "    numX=len([x for x in df[xVar].unique() if x==x])\n",
        "    bars = ax.patches\n",
        "    for ind in range(numX):\n",
        "        hueBars=bars[ind:][::numX]\n",
        "        total = sum([x.get_height() for x in hueBars])\n",
        "        for bar in hueBars:\n",
        "            ax.text(bar.get_x() + bar.get_width()/2.,bar.get_height(),f'{bar.get_height()/total:.0%}',ha=\"center\",va=\"bottom\")"
      ],
      "metadata": {
        "id": "aXseK0t5ueLg"
      },
      "execution_count": null,
      "outputs": []
    },
    {
      "cell_type": "markdown",
      "source": [
        "####Age"
      ],
      "metadata": {
        "id": "FfIDopJEeJuJ"
      }
    },
    {
      "cell_type": "code",
      "source": [
        "arr_age = df.groupby(['Age', 'Attrition']).size()\n",
        "arr_age.unstack().plot()\n",
        "plt.xticks(rotation=45)\n",
        "plt.show()"
      ],
      "metadata": {
        "colab": {
          "base_uri": "https://localhost:8080/",
          "height": 285
        },
        "id": "FgXtuT4i_qNU",
        "outputId": "2787b57c-07a5-4eaa-a80b-ca5f4c84520f"
      },
      "execution_count": null,
      "outputs": [
        {
          "output_type": "display_data",
          "data": {
            "text/plain": [
              "<Figure size 432x288 with 1 Axes>"
            ],
            "image/png": "[encoded data removed]"
          },
          "metadata": {
            "needs_background": "light"
          }
        }
      ]
    },
    {
      "cell_type": "markdown",
      "source": [
        "It is noted that people below the age 21 are mostly leaving rather than staying. The number persons leaving is maximum from the mid 20s to mid 30s."
      ],
      "metadata": {
        "id": "8z9DldawfByV"
      }
    },
    {
      "cell_type": "markdown",
      "source": [
        "####Gender"
      ],
      "metadata": {
        "id": "8TEe5EKieEWL"
      }
    },
    {
      "cell_type": "code",
      "source": [
        "ax = sns.countplot(x=\"Gender\", hue=\"Attrition\", data=df)\n",
        "barPerc(df,'Gender',ax)"
      ],
      "metadata": {
        "colab": {
          "base_uri": "https://localhost:8080/",
          "height": 279
        },
        "id": "20noygu9Bz_b",
        "outputId": "fc606cf0-40de-4644-dd03-95cde33fa537"
      },
      "execution_count": null,
      "outputs": [
        {
          "output_type": "display_data",
          "data": {
            "text/plain": [
              "<Figure size 432x288 with 1 Axes>"
            ],
            "image/png": "[encoded data removed]"
          },
          "metadata": {
            "needs_background": "light"
          }
        }
      ]
    },
    {
      "cell_type": "markdown",
      "source": [
        "We notice that the percentage of men leaving the company is slightly greater than that of the women."
      ],
      "metadata": {
        "id": "Em_SAan1gdsV"
      }
    },
    {
      "cell_type": "markdown",
      "source": [
        "####Education background"
      ],
      "metadata": {
        "id": "a4XpUOCedwCM"
      }
    },
    {
      "cell_type": "code",
      "source": [
        "ax = sns.countplot(x=\"EducationBackground\", hue=\"Attrition\", data=df)\n",
        "barPerc(df,'EducationBackground',ax)"
      ],
      "metadata": {
        "colab": {
          "base_uri": "https://localhost:8080/",
          "height": 279
        },
        "id": "z3JF1J2ZB5ND",
        "outputId": "71713aa8-58f4-4ea2-a845-63ed3272cba7"
      },
      "execution_count": null,
      "outputs": [
        {
          "output_type": "display_data",
          "data": {
            "text/plain": [
              "<Figure size 432x288 with 1 Axes>"
            ],
            "image/png": "[encoded data removed]"
          },
          "metadata": {
            "needs_background": "light"
          }
        }
      ]
    },
    {
      "cell_type": "markdown",
      "source": [
        "Highest number of people leaving the company is from Life sciences but Highest percentage of people leaving the company are from Human Resources and Tech degree."
      ],
      "metadata": {
        "id": "Dgt-fCrpxyrs"
      }
    },
    {
      "cell_type": "markdown",
      "source": [
        "####Marital satus"
      ],
      "metadata": {
        "id": "kcekwJAwdqqk"
      }
    },
    {
      "cell_type": "code",
      "source": [
        "ax = sns.countplot(x=\"MaritalStatus\", hue=\"Attrition\", data=df)\n",
        "barPerc(df,'MaritalStatus',ax)"
      ],
      "metadata": {
        "colab": {
          "base_uri": "https://localhost:8080/",
          "height": 279
        },
        "id": "yxVguSUbB69f",
        "outputId": "30f581d1-729a-4d96-b7b4-6b76265d72f5"
      },
      "execution_count": null,
      "outputs": [
        {
          "output_type": "display_data",
          "data": {
            "text/plain": [
              "<Figure size 432x288 with 1 Axes>"
            ],
            "image/png": "[encoded data removed]"
          },
          "metadata": {
            "needs_background": "light"
          }
        }
      ]
    },
    {
      "cell_type": "markdown",
      "source": [
        "As we have observed earlier people with less age who are assumed to be single are leaving the company most."
      ],
      "metadata": {
        "id": "n_P073N2zYsD"
      }
    },
    {
      "cell_type": "markdown",
      "source": [
        "####Employee depatment"
      ],
      "metadata": {
        "id": "7BVYcv7GddLE"
      }
    },
    {
      "cell_type": "code",
      "source": [
        "ax = sns.countplot(x=\"EmpDepartment\", hue=\"Attrition\", data=df)\n",
        "barPerc(df,'EmpDepartment',ax)"
      ],
      "metadata": {
        "colab": {
          "base_uri": "https://localhost:8080/",
          "height": 279
        },
        "id": "u3qwdBeBB7hJ",
        "outputId": "60ce260c-3c49-4f73-cc18-84ee8fc1f573"
      },
      "execution_count": null,
      "outputs": [
        {
          "output_type": "display_data",
          "data": {
            "text/plain": [
              "<Figure size 432x288 with 1 Axes>"
            ],
            "image/png": "[encoded data removed]"
          },
          "metadata": {
            "needs_background": "light"
          }
        }
      ]
    },
    {
      "cell_type": "markdown",
      "source": [
        "Employees from sales department are attiranting the most than other departments"
      ],
      "metadata": {
        "id": "bCZY6YCQzgR3"
      }
    },
    {
      "cell_type": "markdown",
      "source": [
        "####Employee job role"
      ],
      "metadata": {
        "id": "MYlMU-C_dMDj"
      }
    },
    {
      "cell_type": "code",
      "source": [
        "ax = sns.countplot(x=\"EmpJobRole\", hue=\"Attrition\", data=df)\n",
        "plt.xticks(rotation= 90)\n",
        "barPerc(df,'EmpJobRole',ax)"
      ],
      "metadata": {
        "colab": {
          "base_uri": "https://localhost:8080/",
          "height": 506
        },
        "id": "QaLHaIONCOXD",
        "outputId": "a940a336-31d7-48d2-fa73-3418d44b6611"
      },
      "execution_count": null,
      "outputs": [
        {
          "output_type": "stream",
          "name": "stderr",
          "text": [
            "posx and posy should be finite values\n",
            "posx and posy should be finite values\n",
            "posx and posy should be finite values\n",
            "posx and posy should be finite values\n",
            "posx and posy should be finite values\n",
            "posx and posy should be finite values\n"
          ]
        },
        {
          "output_type": "display_data",
          "data": {
            "text/plain": [
              "<Figure size 432x288 with 1 Axes>"
            ],
            "image/png": "[encoded data removed]"
          },
          "metadata": {
            "needs_background": "light"
          }
        }
      ]
    },
    {
      "cell_type": "markdown",
      "source": [
        "Sales Executives, Developers and Senior managers R&D have high attirating rates.\n",
        "\n",
        "Research directors and Delivery managers has 0 attiration rate"
      ],
      "metadata": {
        "id": "jfvlxOu1zx6n"
      }
    },
    {
      "cell_type": "markdown",
      "source": [
        "####Business Travel Frequency"
      ],
      "metadata": {
        "id": "brerLLlWc69G"
      }
    },
    {
      "cell_type": "code",
      "source": [
        "ax = sns.countplot(x=\"BusinessTravelFrequency\", hue=\"Attrition\", data=df)\n",
        "barPerc(df,'BusinessTravelFrequency',ax)"
      ],
      "metadata": {
        "colab": {
          "base_uri": "https://localhost:8080/",
          "height": 280
        },
        "id": "7NjdZ8FhCVVI",
        "outputId": "3c051f10-b995-4198-dda6-7fe02075e054"
      },
      "execution_count": null,
      "outputs": [
        {
          "output_type": "display_data",
          "data": {
            "text/plain": [
              "<Figure size 432x288 with 1 Axes>"
            ],
            "image/png": "[encoded data removed]"
          },
          "metadata": {
            "needs_background": "light"
          }
        }
      ]
    },
    {
      "cell_type": "markdown",
      "source": [
        "Employees who travel more frequently tend to leave the company the most."
      ],
      "metadata": {
        "id": "RTeJ5_U13oo2"
      }
    },
    {
      "cell_type": "markdown",
      "source": [
        "####Overtime\n",
        "\n"
      ],
      "metadata": {
        "id": "LCBkKp4xbs3S"
      }
    },
    {
      "cell_type": "code",
      "source": [
        "ax = sns.countplot(x=\"OverTime\", hue=\"Attrition\", data=df)\n",
        "barPerc(df,'OverTime',ax)"
      ],
      "metadata": {
        "colab": {
          "base_uri": "https://localhost:8080/",
          "height": 282
        },
        "id": "Zoy0RGfuCVxO",
        "outputId": "4956eb5b-6a5e-4add-d565-e2997d4472c5"
      },
      "execution_count": null,
      "outputs": [
        {
          "output_type": "display_data",
          "data": {
            "text/plain": [
              "<Figure size 432x288 with 1 Axes>"
            ],
            "image/png": "[encoded data removed]"
          },
          "metadata": {
            "needs_background": "light"
          }
        }
      ]
    },
    {
      "cell_type": "markdown",
      "source": [
        "Employees who does Overtime more are attirating the most"
      ],
      "metadata": {
        "id": "zla05x6u3w8A"
      }
    },
    {
      "cell_type": "markdown",
      "source": [
        "##EDA of Performance rating"
      ],
      "metadata": {
        "id": "4vOKwPtI4nb5"
      }
    },
    {
      "cell_type": "markdown",
      "source": [
        "####Age"
      ],
      "metadata": {
        "id": "aqHNAHf24noo"
      }
    },
    {
      "cell_type": "code",
      "source": [
        "  ax = sns.barplot(x=\"Age\", y=\"PerformanceRating\", data=df)"
      ],
      "metadata": {
        "colab": {
          "base_uri": "https://localhost:8080/",
          "height": 279
        },
        "id": "U2POXzHAqerl",
        "outputId": "1b22efce-4a3f-4b49-ca37-7573756e4caa"
      },
      "execution_count": null,
      "outputs": [
        {
          "output_type": "display_data",
          "data": {
            "text/plain": [
              "<Figure size 432x288 with 1 Axes>"
            ],
            "image/png": "[encoded data removed]"
          },
          "metadata": {
            "needs_background": "light"
          }
        }
      ]
    },
    {
      "cell_type": "markdown",
      "source": [
        "No trend observed"
      ],
      "metadata": {
        "id": "Q8A-VlWu8uWI"
      }
    },
    {
      "cell_type": "markdown",
      "source": [
        "####EmpEducationLevel"
      ],
      "metadata": {
        "id": "TxBxc36-8NUF"
      }
    },
    {
      "cell_type": "code",
      "source": [
        "ax = sns.barplot(x=\"EmpEducationLevel\", y=\"PerformanceRating\", data=df)"
      ],
      "metadata": {
        "colab": {
          "base_uri": "https://localhost:8080/",
          "height": 279
        },
        "id": "Cxt6--lXq0S3",
        "outputId": "03c6f5e5-12bd-47a9-82fd-b2da3332b3be"
      },
      "execution_count": null,
      "outputs": [
        {
          "output_type": "display_data",
          "data": {
            "text/plain": [
              "<Figure size 432x288 with 1 Axes>"
            ],
            "image/png": "[encoded data removed]"
          },
          "metadata": {
            "needs_background": "light"
          }
        }
      ]
    },
    {
      "cell_type": "markdown",
      "source": [
        "No trend observed"
      ],
      "metadata": {
        "id": "wXUw10KF8x3_"
      }
    },
    {
      "cell_type": "markdown",
      "source": [
        "####EmpEnvironmentSatisfaction"
      ],
      "metadata": {
        "id": "d3N2d8z247LZ"
      }
    },
    {
      "cell_type": "code",
      "source": [
        "ax = sns.barplot(x=\"EmpEnvironmentSatisfaction\", y=\"PerformanceRating\", data=df)"
      ],
      "metadata": {
        "colab": {
          "base_uri": "https://localhost:8080/",
          "height": 279
        },
        "id": "KTiczjXjq9gF",
        "outputId": "107ea239-b98e-4468-e98e-0d560e96c804"
      },
      "execution_count": null,
      "outputs": [
        {
          "output_type": "display_data",
          "data": {
            "text/plain": [
              "<Figure size 432x288 with 1 Axes>"
            ],
            "image/png": "[encoded data removed]"
          },
          "metadata": {
            "needs_background": "light"
          }
        }
      ]
    },
    {
      "cell_type": "markdown",
      "source": [
        "Employees with better environment satisfaction are slightly observed to have better performance rating."
      ],
      "metadata": {
        "id": "j_W0D9jS5sqX"
      }
    },
    {
      "cell_type": "markdown",
      "source": [
        "####EmpJobSatisfaction"
      ],
      "metadata": {
        "id": "OgdxdP8w4_K3"
      }
    },
    {
      "cell_type": "code",
      "source": [
        "ax = sns.barplot(x=\"EmpJobSatisfaction\", y=\"PerformanceRating\", data=df)"
      ],
      "metadata": {
        "colab": {
          "base_uri": "https://localhost:8080/",
          "height": 279
        },
        "id": "5nZYVmBZq9-k",
        "outputId": "178f9b5d-42ef-4ac7-a0aa-94ac19ba0de4"
      },
      "execution_count": null,
      "outputs": [
        {
          "output_type": "display_data",
          "data": {
            "text/plain": [
              "<Figure size 432x288 with 1 Axes>"
            ],
            "image/png": "[encoded data removed]"
          },
          "metadata": {
            "needs_background": "light"
          }
        }
      ]
    },
    {
      "cell_type": "markdown",
      "source": [
        "No trend observed"
      ],
      "metadata": {
        "id": "TrcRTLqk83AV"
      }
    },
    {
      "cell_type": "markdown",
      "source": [
        "####NumCompaniesWorked"
      ],
      "metadata": {
        "id": "vp5J2sF95Chz"
      }
    },
    {
      "cell_type": "code",
      "source": [
        "ax = sns.barplot(x=\"NumCompaniesWorked\", y=\"PerformanceRating\", data=df)"
      ],
      "metadata": {
        "colab": {
          "base_uri": "https://localhost:8080/",
          "height": 279
        },
        "id": "NDUUTUjhq-Qi",
        "outputId": "37144f84-88a9-4e53-accc-777333aae488"
      },
      "execution_count": null,
      "outputs": [
        {
          "output_type": "display_data",
          "data": {
            "text/plain": [
              "<Figure size 432x288 with 1 Axes>"
            ],
            "image/png": "[encoded data removed]"
          },
          "metadata": {
            "needs_background": "light"
          }
        }
      ]
    },
    {
      "cell_type": "markdown",
      "source": [
        "No trend observed"
      ],
      "metadata": {
        "id": "Mp3sDac8882k"
      }
    },
    {
      "cell_type": "markdown",
      "source": [
        "####EmpLastSalaryHikePercent"
      ],
      "metadata": {
        "id": "CvMs2dZx5H7h"
      }
    },
    {
      "cell_type": "code",
      "source": [
        "ax = sns.barplot(x=\"EmpLastSalaryHikePercent\", y=\"PerformanceRating\", data=df)"
      ],
      "metadata": {
        "colab": {
          "base_uri": "https://localhost:8080/",
          "height": 282
        },
        "id": "xJxgrONNq-hY",
        "outputId": "7c793bb7-32ae-4d5a-d3e2-ae0783760779"
      },
      "execution_count": null,
      "outputs": [
        {
          "output_type": "display_data",
          "data": {
            "text/plain": [
              "<Figure size 432x288 with 1 Axes>"
            ],
            "image/png": "[encoded data removed]"
          },
          "metadata": {
            "needs_background": "light"
          }
        }
      ]
    },
    {
      "cell_type": "markdown",
      "source": [
        "Employees with high salary hike percent are slightly having better performance rating."
      ],
      "metadata": {
        "id": "aqJjLhOE6ZhR"
      }
    },
    {
      "cell_type": "markdown",
      "source": [
        "####EmpWorkLifeBalance"
      ],
      "metadata": {
        "id": "I4AGAJsE5K9l"
      }
    },
    {
      "cell_type": "code",
      "source": [
        "ax = sns.barplot(x=\"EmpWorkLifeBalance\", y=\"PerformanceRating\", data=df)"
      ],
      "metadata": {
        "colab": {
          "base_uri": "https://localhost:8080/",
          "height": 279
        },
        "id": "rUbEA-x5q-xi",
        "outputId": "a6399d7a-a137-439b-bcb0-5c97970ed03c"
      },
      "execution_count": null,
      "outputs": [
        {
          "output_type": "display_data",
          "data": {
            "text/plain": [
              "<Figure size 432x288 with 1 Axes>"
            ],
            "image/png": "[encoded data removed]"
          },
          "metadata": {
            "needs_background": "light"
          }
        }
      ]
    },
    {
      "cell_type": "markdown",
      "source": [
        "People with better work life balance are having slightly better performance rating"
      ],
      "metadata": {
        "id": "FhNwhdy16m6p"
      }
    },
    {
      "cell_type": "markdown",
      "source": [
        "#Modelling"
      ],
      "metadata": {
        "id": "o-LIb7YVHDZC"
      }
    },
    {
      "cell_type": "code",
      "source": [
        "model_var = ['EmpEnvironmentSatisfaction', 'EmpLastSalaryHikePercent', 'EmpWorkLifeBalance', 'ExperienceYearsAtThisCompany', 'ExperienceYearsInCurrentRole', \n",
        "             'YearsSinceLastPromotion', 'YearsWithCurrManager', 'EmpDepartment', 'EmpJobRole', 'PerformanceRating']\n",
        "model_num_var = ['EmpEnvironmentSatisfaction', 'EmpLastSalaryHikePercent', 'EmpWorkLifeBalance', 'ExperienceYearsAtThisCompany', 'ExperienceYearsInCurrentRole', \n",
        "             'YearsSinceLastPromotion', 'YearsWithCurrManager']\n",
        "model_cat_var = ['EmpDepartment', 'EmpJobRole']"
      ],
      "metadata": {
        "id": "EpSyvBBGYxRR"
      },
      "execution_count": null,
      "outputs": []
    },
    {
      "cell_type": "code",
      "source": [
        "df = df[model_var]\n",
        "X = df.drop(columns=['PerformanceRating'],axis=1)\n",
        "Y = df['PerformanceRating']"
      ],
      "metadata": {
        "id": "1-JP8BWGSsxl"
      },
      "execution_count": null,
      "outputs": []
    },
    {
      "cell_type": "code",
      "source": [
        "numeric_transformer = Pipeline(steps=[(\"scaler\", StandardScaler())])\n",
        "categorical_transformer = OneHotEncoder(handle_unknown=\"ignore\")"
      ],
      "metadata": {
        "id": "59ys_iKcZdHf"
      },
      "execution_count": null,
      "outputs": []
    },
    {
      "cell_type": "code",
      "source": [
        "preprocessor = ColumnTransformer(transformers=[(\"num\", numeric_transformer, model_num_var), (\"cat\", categorical_transformer, model_cat_var)], remainder='passthrough')\n",
        "clf = Pipeline(steps=[(\"preprocessor\", preprocessor)])"
      ],
      "metadata": {
        "id": "YOXv-0dTCBGl"
      },
      "execution_count": null,
      "outputs": []
    },
    {
      "cell_type": "code",
      "source": [
        "X_train, X_test, Y_train, Y_test = train_test_split(X, Y,\n",
        "                                    test_size=0.25, random_state=0)\n",
        "clf.fit(X_train, Y_train)\n",
        "\n",
        "X_train = clf.transform(X_train)\n",
        "Y_train = np.array(Y_train).reshape(-1,1)\n",
        "\n",
        "X_test = clf.transform(X_test)\n",
        "Y_test = np.array(Y_test).reshape(-1,1)\n",
        "\n",
        "print(X_train.shape, X_test.shape, Y_train.shape, Y_test.shape)"
      ],
      "metadata": {
        "id": "s85JVdO3UDya",
        "colab": {
          "base_uri": "https://localhost:8080/"
        },
        "outputId": "41472f60-41e2-4203-8707-0270e1f3c55e"
      },
      "execution_count": null,
      "outputs": [
        {
          "output_type": "stream",
          "name": "stdout",
          "text": [
            "(900, 32) (300, 32) (900, 1) (300, 1)\n"
          ]
        }
      ]
    },
    {
      "cell_type": "markdown",
      "source": [
        "##Logistic Regression"
      ],
      "metadata": {
        "id": "sV-rJq7hHHVN"
      }
    },
    {
      "cell_type": "code",
      "source": [
        "logm= LogisticRegression(random_state= 0)\n",
        "logm.fit(X_train, Y_train)"
      ],
      "metadata": {
        "colab": {
          "base_uri": "https://localhost:8080/"
        },
        "id": "fky4Mx5Mrj_V",
        "outputId": "fa1adbd5-b2f1-4437-e50d-8ab17d9c519d"
      },
      "execution_count": null,
      "outputs": [
        {
          "output_type": "stream",
          "name": "stderr",
          "text": [
            "/usr/local/lib/python3.7/dist-packages/sklearn/utils/validation.py:993: DataConversionWarning: A column-vector y was passed when a 1d array was expected. Please change the shape of y to (n_samples, ), for example using ravel().\n",
            "  y = column_or_1d(y, warn=True)\n"
          ]
        },
        {
          "output_type": "execute_result",
          "data": {
            "text/plain": [
              "LogisticRegression(random_state=0)"
            ]
          },
          "metadata": {},
          "execution_count": 48
        }
      ]
    },
    {
      "cell_type": "code",
      "source": [
        "predictions = logm.predict(X_test)"
      ],
      "metadata": {
        "id": "ltF_LQQ8rnuH"
      },
      "execution_count": null,
      "outputs": []
    },
    {
      "cell_type": "code",
      "source": [
        "print(accuracy_score(Y_test,predictions))"
      ],
      "metadata": {
        "colab": {
          "base_uri": "https://localhost:8080/"
        },
        "id": "fmPmBaeRrruX",
        "outputId": "3503447e-cbe9-4283-aa62-7f66877d6bea"
      },
      "execution_count": null,
      "outputs": [
        {
          "output_type": "stream",
          "name": "stdout",
          "text": [
            "0.8266666666666667\n"
          ]
        }
      ]
    },
    {
      "cell_type": "code",
      "source": [
        "print(classification_report(Y_test,predictions))"
      ],
      "metadata": {
        "colab": {
          "base_uri": "https://localhost:8080/"
        },
        "id": "UDpvNZDLqqQS",
        "outputId": "5ab0b45e-e1de-404d-8e0b-8a799705d8df"
      },
      "execution_count": null,
      "outputs": [
        {
          "output_type": "stream",
          "name": "stdout",
          "text": [
            "              precision    recall  f1-score   support\n",
            "\n",
            "           2       0.71      0.57      0.63        42\n",
            "           3       0.87      0.91      0.89       223\n",
            "           4       0.64      0.60      0.62        35\n",
            "\n",
            "    accuracy                           0.83       300\n",
            "   macro avg       0.74      0.69      0.71       300\n",
            "weighted avg       0.82      0.83      0.82       300\n",
            "\n"
          ]
        }
      ]
    },
    {
      "cell_type": "code",
      "source": [
        "sns.heatmap(confusion_matrix(Y_test,predictions),cmap='viridis',annot=True)\n",
        "plt.show()"
      ],
      "metadata": {
        "colab": {
          "base_uri": "https://localhost:8080/",
          "height": 266
        },
        "id": "q5xnplS0r170",
        "outputId": "9ac65919-72ba-4c9b-ba11-f85edff3c550"
      },
      "execution_count": null,
      "outputs": [
        {
          "output_type": "display_data",
          "data": {
            "text/plain": [
              "<Figure size 432x288 with 2 Axes>"
            ],
            "image/png": "[encoded data removed]"
          },
          "metadata": {
            "needs_background": "light"
          }
        }
      ]
    },
    {
      "cell_type": "markdown",
      "source": [
        "##Support Vector Machine"
      ],
      "metadata": {
        "id": "k__4af8XEfcH"
      }
    },
    {
      "cell_type": "code",
      "source": [
        "rbf_svc = SVC(kernel='rbf', C=100, random_state=10, probability=True).fit(X_train,Y_train)"
      ],
      "metadata": {
        "colab": {
          "base_uri": "https://localhost:8080/"
        },
        "id": "Kzad0lDj-M9B",
        "outputId": "4c9158f7-4894-43a0-c1e8-35b361203972"
      },
      "execution_count": null,
      "outputs": [
        {
          "output_type": "stream",
          "name": "stderr",
          "text": [
            "/usr/local/lib/python3.7/dist-packages/sklearn/utils/validation.py:993: DataConversionWarning: A column-vector y was passed when a 1d array was expected. Please change the shape of y to (n_samples, ), for example using ravel().\n",
            "  y = column_or_1d(y, warn=True)\n"
          ]
        }
      ]
    },
    {
      "cell_type": "code",
      "source": [
        "y_predict_svm = rbf_svc.predict(X_test)"
      ],
      "metadata": {
        "id": "4zbO6PiG-Osx"
      },
      "execution_count": null,
      "outputs": []
    },
    {
      "cell_type": "code",
      "source": [
        "print(accuracy_score(Y_test,y_predict_svm))\n",
        "print(classification_report(Y_test,y_predict_svm))"
      ],
      "metadata": {
        "colab": {
          "base_uri": "https://localhost:8080/"
        },
        "id": "VvWFdQfg-OxY",
        "outputId": "ea7a5e82-a97c-42e0-8a24-c3f556646e01"
      },
      "execution_count": null,
      "outputs": [
        {
          "output_type": "stream",
          "name": "stdout",
          "text": [
            "0.8433333333333334\n",
            "              precision    recall  f1-score   support\n",
            "\n",
            "           2       0.73      0.71      0.72        42\n",
            "           3       0.90      0.89      0.90       223\n",
            "           4       0.62      0.69      0.65        35\n",
            "\n",
            "    accuracy                           0.84       300\n",
            "   macro avg       0.75      0.76      0.76       300\n",
            "weighted avg       0.85      0.84      0.84       300\n",
            "\n"
          ]
        }
      ]
    },
    {
      "cell_type": "code",
      "source": [
        "sns.heatmap(confusion_matrix(Y_test,y_predict_svm),cmap='viridis',annot=True)\n",
        "plt.show()"
      ],
      "metadata": {
        "colab": {
          "base_uri": "https://localhost:8080/",
          "height": 265
        },
        "id": "2MftSICQ-eOT",
        "outputId": "e9217613-3019-4e53-ee6b-79dbcc70112a"
      },
      "execution_count": null,
      "outputs": [
        {
          "output_type": "display_data",
          "data": {
            "text/plain": [
              "<Figure size 432x288 with 2 Axes>"
            ],
            "image/png": "[encoded data removed]"
          },
          "metadata": {
            "needs_background": "light"
          }
        }
      ]
    },
    {
      "cell_type": "markdown",
      "source": [
        "##Decision Tree"
      ],
      "metadata": {
        "id": "pgcxaKOL5Ux4"
      }
    },
    {
      "cell_type": "code",
      "source": [
        "tree = DecisionTreeClassifier()"
      ],
      "metadata": {
        "id": "YXlnnyji5bQF"
      },
      "execution_count": null,
      "outputs": []
    },
    {
      "cell_type": "code",
      "source": [
        "tr=DecisionTreeClassifier()"
      ],
      "metadata": {
        "id": "TJEvvppQkbC-"
      },
      "execution_count": null,
      "outputs": []
    },
    {
      "cell_type": "code",
      "source": [
        "tree.fit(X_train,Y_train)"
      ],
      "metadata": {
        "colab": {
          "base_uri": "https://localhost:8080/"
        },
        "id": "fCZJBm2G5gQ9",
        "outputId": "c764d2e3-b5fd-443f-c1ae-6f06c7a5947b"
      },
      "execution_count": null,
      "outputs": [
        {
          "output_type": "execute_result",
          "data": {
            "text/plain": [
              "DecisionTreeClassifier()"
            ]
          },
          "metadata": {},
          "execution_count": 59
        }
      ]
    },
    {
      "cell_type": "code",
      "source": [
        "predict_tree=tree.predict(X_test)"
      ],
      "metadata": {
        "id": "0VN-npO55kBz"
      },
      "execution_count": null,
      "outputs": []
    },
    {
      "cell_type": "code",
      "source": [
        "print(accuracy_score(Y_test,predict_tree))"
      ],
      "metadata": {
        "colab": {
          "base_uri": "https://localhost:8080/"
        },
        "id": "sQsNmRxU5nWb",
        "outputId": "7e2d6c07-5874-469e-90ed-e85726714550"
      },
      "execution_count": null,
      "outputs": [
        {
          "output_type": "stream",
          "name": "stdout",
          "text": [
            "0.91\n"
          ]
        }
      ]
    },
    {
      "cell_type": "code",
      "source": [
        "print(classification_report(Y_test,predict_tree))"
      ],
      "metadata": {
        "colab": {
          "base_uri": "https://localhost:8080/"
        },
        "id": "ki0UedzO5rcO",
        "outputId": "2bd4b4c1-fc89-4baa-9907-e66c1afc8f32"
      },
      "execution_count": null,
      "outputs": [
        {
          "output_type": "stream",
          "name": "stdout",
          "text": [
            "              precision    recall  f1-score   support\n",
            "\n",
            "           2       0.84      0.86      0.85        42\n",
            "           3       0.95      0.93      0.94       223\n",
            "           4       0.78      0.83      0.81        35\n",
            "\n",
            "    accuracy                           0.91       300\n",
            "   macro avg       0.86      0.87      0.86       300\n",
            "weighted avg       0.91      0.91      0.91       300\n",
            "\n"
          ]
        }
      ]
    },
    {
      "cell_type": "code",
      "source": [
        "sns.heatmap(confusion_matrix(Y_test,predict_tree),cmap='viridis',annot=True)\n",
        "plt.show()"
      ],
      "metadata": {
        "colab": {
          "base_uri": "https://localhost:8080/",
          "height": 265
        },
        "id": "jIyGKN0R5wHm",
        "outputId": "db8ec7eb-5204-4582-adea-1d1939f27e3f"
      },
      "execution_count": null,
      "outputs": [
        {
          "output_type": "display_data",
          "data": {
            "text/plain": [
              "<Figure size 432x288 with 2 Axes>"
            ],
            "image/png": "[encoded data removed]"
          },
          "metadata": {
            "needs_background": "light"
          }
        }
      ]
    },
    {
      "cell_type": "markdown",
      "source": [
        "##Random Forest"
      ],
      "metadata": {
        "id": "-gw7KvJB53Yk"
      }
    },
    {
      "cell_type": "code",
      "source": [
        "rfc = RandomForestClassifier(max_depth= 9, n_estimators= 800)"
      ],
      "metadata": {
        "id": "4VCECtY_51rr"
      },
      "execution_count": null,
      "outputs": []
    },
    {
      "cell_type": "code",
      "source": [
        "rfc.fit(X_train,Y_train)"
      ],
      "metadata": {
        "id": "PRsjDpLo5-en",
        "colab": {
          "base_uri": "https://localhost:8080/"
        },
        "outputId": "adad949f-1a03-48f3-b645-dbcea8c0a3da"
      },
      "execution_count": null,
      "outputs": [
        {
          "output_type": "stream",
          "name": "stderr",
          "text": [
            "/usr/local/lib/python3.7/dist-packages/ipykernel_launcher.py:1: DataConversionWarning: A column-vector y was passed when a 1d array was expected. Please change the shape of y to (n_samples,), for example using ravel().\n",
            "  \"\"\"Entry point for launching an IPython kernel.\n"
          ]
        },
        {
          "output_type": "execute_result",
          "data": {
            "text/plain": [
              "RandomForestClassifier(max_depth=9, n_estimators=800)"
            ]
          },
          "metadata": {},
          "execution_count": 65
        }
      ]
    },
    {
      "cell_type": "code",
      "source": [
        "rf_predictions = rfc.predict(X_test)"
      ],
      "metadata": {
        "id": "QEHub96PR2k_"
      },
      "execution_count": null,
      "outputs": []
    },
    {
      "cell_type": "code",
      "source": [
        "accuracy_score(Y_test, rf_predictions)"
      ],
      "metadata": {
        "colab": {
          "base_uri": "https://localhost:8080/"
        },
        "id": "bRhn-cBtQ7j9",
        "outputId": "37d08ae0-d3e1-453d-ab82-e06764bdaaee"
      },
      "execution_count": null,
      "outputs": [
        {
          "output_type": "execute_result",
          "data": {
            "text/plain": [
              "0.9466666666666667"
            ]
          },
          "metadata": {},
          "execution_count": 67
        }
      ]
    },
    {
      "cell_type": "code",
      "source": [
        "sns.heatmap(confusion_matrix(Y_test,rf_predictions),cmap='viridis',annot=True)\n",
        "plt.show()"
      ],
      "metadata": {
        "id": "ziQfYs9Vtaq5",
        "outputId": "0357d3a5-4add-4ccb-e2c7-a0f6f712b527",
        "colab": {
          "base_uri": "https://localhost:8080/",
          "height": 265
        }
      },
      "execution_count": null,
      "outputs": [
        {
          "output_type": "display_data",
          "data": {
            "text/plain": [
              "<Figure size 432x288 with 2 Axes>"
            ],
            "image/png": "[encoded data removed]"
          },
          "metadata": {
            "needs_background": "light"
          }
        }
      ]
    },
    {
      "cell_type": "code",
      "source": [
        "print(classification_report(Y_test,rf_predictions))"
      ],
      "metadata": {
        "colab": {
          "base_uri": "https://localhost:8080/"
        },
        "id": "DjUjTxldtOse",
        "outputId": "c2ae1233-2604-497b-fcb6-529d2d3baeda"
      },
      "execution_count": null,
      "outputs": [
        {
          "output_type": "stream",
          "name": "stdout",
          "text": [
            "              precision    recall  f1-score   support\n",
            "\n",
            "           2       0.95      0.93      0.94        42\n",
            "           3       0.96      0.97      0.96       223\n",
            "           4       0.85      0.83      0.84        35\n",
            "\n",
            "    accuracy                           0.95       300\n",
            "   macro avg       0.92      0.91      0.91       300\n",
            "weighted avg       0.95      0.95      0.95       300\n",
            "\n"
          ]
        }
      ]
    },
    {
      "cell_type": "markdown",
      "source": [
        "##Gradient Booster"
      ],
      "metadata": {
        "id": "V142vlYQNl3-"
      }
    },
    {
      "cell_type": "code",
      "source": [
        "gb = GradientBoostingClassifier(n_estimators= 500, random_state= 0)\n",
        "gb.fit(X_train, Y_train)\n",
        "gb_predictions = gb.predict(X_test)\n",
        "print(\"Predictions have finished\")"
      ],
      "metadata": {
        "colab": {
          "base_uri": "https://localhost:8080/"
        },
        "id": "4HhgcbAIYAY0",
        "outputId": "8ea6abc4-11e4-4da9-afcb-08e5e3cdd589"
      },
      "execution_count": null,
      "outputs": [
        {
          "output_type": "stream",
          "name": "stderr",
          "text": [
            "/usr/local/lib/python3.7/dist-packages/sklearn/ensemble/_gb.py:494: DataConversionWarning: A column-vector y was passed when a 1d array was expected. Please change the shape of y to (n_samples, ), for example using ravel().\n",
            "  y = column_or_1d(y, warn=True)\n"
          ]
        },
        {
          "output_type": "stream",
          "name": "stdout",
          "text": [
            "Predictions have finished\n"
          ]
        }
      ]
    },
    {
      "cell_type": "code",
      "source": [
        "accuracy_score(Y_test, gb_predictions)"
      ],
      "metadata": {
        "colab": {
          "base_uri": "https://localhost:8080/"
        },
        "id": "2YmyUQcvYHoV",
        "outputId": "3b8fa244-0660-49ab-df48-726d794d879a"
      },
      "execution_count": null,
      "outputs": [
        {
          "output_type": "execute_result",
          "data": {
            "text/plain": [
              "0.92"
            ]
          },
          "metadata": {},
          "execution_count": 71
        }
      ]
    },
    {
      "cell_type": "code",
      "source": [
        "sns.heatmap(confusion_matrix(Y_test,gb_predictions),cmap='viridis',annot=True)\n",
        "plt.show()"
      ],
      "metadata": {
        "id": "ApO_F_Y9yMue",
        "colab": {
          "base_uri": "https://localhost:8080/",
          "height": 265
        },
        "outputId": "46cd4266-7f54-4a8b-d335-e37b78f097f0"
      },
      "execution_count": null,
      "outputs": [
        {
          "output_type": "display_data",
          "data": {
            "text/plain": [
              "<Figure size 432x288 with 2 Axes>"
            ],
            "image/png": "[encoded data removed]"
          },
          "metadata": {
            "needs_background": "light"
          }
        }
      ]
    },
    {
      "cell_type": "code",
      "source": [
        "print(classification_report(Y_test,gb_predictions))"
      ],
      "metadata": {
        "colab": {
          "base_uri": "https://localhost:8080/"
        },
        "id": "U_hv3iU5ssi4",
        "outputId": "f02ab5fd-775d-40f7-c612-df8582882a4f"
      },
      "execution_count": null,
      "outputs": [
        {
          "output_type": "stream",
          "name": "stdout",
          "text": [
            "              precision    recall  f1-score   support\n",
            "\n",
            "           2       0.84      0.88      0.86        42\n",
            "           3       0.95      0.94      0.95       223\n",
            "           4       0.81      0.86      0.83        35\n",
            "\n",
            "    accuracy                           0.92       300\n",
            "   macro avg       0.87      0.89      0.88       300\n",
            "weighted avg       0.92      0.92      0.92       300\n",
            "\n"
          ]
        }
      ]
    },
    {
      "cell_type": "code",
      "source": [],
      "metadata": {
        "id": "GIBoYC2Ps21e"
      },
      "execution_count": null,
      "outputs": []
    },
    {
      "cell_type": "code",
      "source": [],
      "metadata": {
        "id": "vVnAh6akT_X5"
      },
      "execution_count": null,
      "outputs": []
    }
  ]
}